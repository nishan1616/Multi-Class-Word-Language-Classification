{
 "cells": [
  {
   "cell_type": "code",
   "execution_count": 4,
   "metadata": {},
   "outputs": [],
   "source": [
    "import os\n",
    "import sys \n",
    "import glob\n",
    "import time\n",
    "from tqdm.notebook import tqdm\n",
    "\n",
    "import numpy as np\n",
    "import pandas as pd\n",
    "import matplotlib.pyplot as plt\n",
    "import seaborn as sns\n",
    "\n",
    "import torch\n",
    "import torch.nn as nn\n",
    "import torch.nn.functional as F\n",
    "import torch.optim as optim\n",
    "from torch.utils.data import Dataset, DataLoader\n",
    "from sklearn.model_selection import train_test_split\n",
    "from sklearn.metrics import accuracy_score, confusion_matrix\n",
    "\n",
    "import unicodedata\n",
    "import string \n",
    "import copy"
   ]
  },
  {
   "cell_type": "markdown",
   "metadata": {},
   "source": [
    "# 1.Load Data"
   ]
  },
  {
   "cell_type": "code",
   "execution_count": 5,
   "metadata": {},
   "outputs": [
    {
     "name": "stdout",
     "output_type": "stream",
     "text": [
      "['storage\\\\data\\\\language-words\\\\Arabic.txt', 'storage\\\\data\\\\language-words\\\\Chinese.txt', 'storage\\\\data\\\\language-words\\\\Czech.txt', 'storage\\\\data\\\\language-words\\\\Dutch.txt', 'storage\\\\data\\\\language-words\\\\English.txt', 'storage\\\\data\\\\language-words\\\\French.txt', 'storage\\\\data\\\\language-words\\\\German.txt', 'storage\\\\data\\\\language-words\\\\Greek.txt', 'storage\\\\data\\\\language-words\\\\Irish.txt', 'storage\\\\data\\\\language-words\\\\Italian.txt', 'storage\\\\data\\\\language-words\\\\Japanese.txt', 'storage\\\\data\\\\language-words\\\\Korean.txt', 'storage\\\\data\\\\language-words\\\\Polish.txt', 'storage\\\\data\\\\language-words\\\\Portuguese.txt', 'storage\\\\data\\\\language-words\\\\Russian.txt', 'storage\\\\data\\\\language-words\\\\Scottish.txt', 'storage\\\\data\\\\language-words\\\\Spanish.txt', 'storage\\\\data\\\\language-words\\\\Vietnamese.txt']\n"
     ]
    }
   ],
   "source": [
    "data_folder = os.path.join(\"storage\", \"data\", \"language-words\")\n",
    "file_paths = glob.glob(os.path.join(data_folder, \"*.txt\"))\n",
    "print(file_paths)"
   ]
  },
  {
   "cell_type": "code",
   "execution_count": 6,
   "metadata": {},
   "outputs": [
    {
     "name": "stdout",
     "output_type": "stream",
     "text": [
      "['wolter', 'wörner', 'wörnhör', 'wruck', 'wyman', 'xylander', 'zellweger', 'zilberschlag', 'zimmerman', 'zimmermann']\n"
     ]
    }
   ],
   "source": [
    "words_dict = {}\n",
    "for file_path in file_paths:\n",
    "    language = file_path.split('\\\\')[3][:-4]\n",
    "    with open(file_path, \"r\") as file:\n",
    "        words = file.readlines()\n",
    "        words = [word.strip().lower() for word in words]\n",
    "        words_dict[language] = words\n",
    "\n",
    "print(words_dict['German'][-10:])"
   ]
  },
  {
   "cell_type": "markdown",
   "metadata": {},
   "source": [
    "# 2. Clean Text"
   ]
  },
  {
   "cell_type": "code",
   "execution_count": 7,
   "metadata": {},
   "outputs": [
    {
     "name": "stdout",
     "output_type": "stream",
     "text": [
      "[' ', \"'\", ',', '-', '/', '1', ':', 'a', 'b', 'c', 'd', 'e', 'f', 'g', 'h', 'i', 'j', 'k', 'l', 'm', 'n', 'o', 'p', 'q', 'r', 's', 't', 'u', 'v', 'w', 'x', 'y', 'z', '\\xa0', 'ß', 'à', 'á', 'ã', 'ä', 'ç', 'è', 'é', 'ê', 'ì', 'í', 'ñ', 'ò', 'ó', 'õ', 'ö', 'ù', 'ú', 'ü', 'ą', 'ł', 'ń', 'ś', 'ż']\n"
     ]
    }
   ],
   "source": [
    "characters = set()\n",
    "for language, words in words_dict.items():\n",
    "    for word in words:\n",
    "        characters.update(list(word))\n",
    "\n",
    "characters = sorted(list(characters))\n",
    "print(characters)"
   ]
  },
  {
   "cell_type": "code",
   "execution_count": 8,
   "metadata": {},
   "outputs": [
    {
     "name": "stdout",
     "output_type": "stream",
     "text": [
      "['ñ'] ['n', '̃']\n"
     ]
    }
   ],
   "source": [
    "c = list('ñ')\n",
    "c_normalized = list(unicodedata.normalize(\"NFD\", 'ñ'))\n",
    "print(c, c_normalized)"
   ]
  },
  {
   "cell_type": "code",
   "execution_count": 9,
   "metadata": {},
   "outputs": [
    {
     "name": "stdout",
     "output_type": "stream",
     "text": [
      "[' ', \"'\", ',', '-', '/', '1', ':', 'a', 'b', 'c', 'd', 'e', 'f', 'g', 'h', 'i', 'j', 'k', 'l', 'm', 'n', 'o', 'p', 'q', 'r', 's', 't', 'u', 'v', 'w', 'x', 'y', 'z', '\\xa0', 'ß', 'a', 'a', 'a', 'a', 'c', 'e', 'e', 'e', 'i', 'i', 'n', 'o', 'o', 'o', 'o', 'u', 'u', 'u', 'a', 'ł', 'n', 's', 'z']\n"
     ]
    }
   ],
   "source": [
    "characters_normalized = []\n",
    "for character in characters:\n",
    "    character_normalized = unicodedata.normalize(\"NFD\", character)[0]\n",
    "    characters_normalized.append(character_normalized)\n",
    "print(characters_normalized)"
   ]
  },
  {
   "cell_type": "code",
   "execution_count": 10,
   "metadata": {},
   "outputs": [
    {
     "name": "stdout",
     "output_type": "stream",
     "text": [
      "32 ['a', 'b', 'c', 'd', 'e', 'f', 'g', 'h', 'i', 'j', 'k', 'l', 'm', 'n', 'o', 'p', 'q', 'r', 's', 't', 'u', 'v', 'w', 'x', 'y', 'z', ' ', '-', \"'\", ',', ':', ';']\n"
     ]
    }
   ],
   "source": [
    "characters_all = list(string.ascii_lowercase + \" -',:;\")\n",
    "print(len(characters_all), characters_all)"
   ]
  },
  {
   "cell_type": "code",
   "execution_count": 11,
   "metadata": {},
   "outputs": [],
   "source": [
    "def clean_word(word):\n",
    "    cleaned_word = \"\"\n",
    "    for character in word:\n",
    "        for character_raw in unicodedata.normalize(\"NFD\", character):\n",
    "            if character_raw in characters_all:\n",
    "                cleaned_word += character_raw\n",
    "    return cleaned_word\n",
    "            "
   ]
  },
  {
   "cell_type": "code",
   "execution_count": 12,
   "metadata": {},
   "outputs": [
    {
     "name": "stdout",
     "output_type": "stream",
     "text": [
      "Arabic\n",
      "Chinese\n",
      "Czech\n",
      "Dutch\n",
      "English\n",
      "French\n",
      "German\n",
      "Greek\n",
      "Irish\n",
      "Italian\n",
      "Japanese\n",
      "Korean\n",
      "Polish\n",
      "Portuguese\n",
      "Russian\n",
      "Scottish\n",
      "Spanish\n",
      "Vietnamese\n"
     ]
    }
   ],
   "source": [
    "words_dict_cleaned = {}\n",
    "for language, words in words_dict.items():\n",
    "    cleaned_words = []\n",
    "    print(language)\n",
    "    for word in words:\n",
    "        cleaned_word = clean_word(word)\n",
    "        cleaned_words.append(cleaned_word)\n",
    "    words_dict_cleaned[language] = cleaned_words\n"
   ]
  },
  {
   "cell_type": "code",
   "execution_count": 13,
   "metadata": {},
   "outputs": [
    {
     "name": "stdout",
     "output_type": "stream",
     "text": [
      "['wolter', 'wörner', 'wörnhör', 'wruck', 'wyman', 'xylander', 'zellweger', 'zilberschlag', 'zimmerman', 'zimmermann']\n",
      "['wolter', 'worner', 'wornhor', 'wruck', 'wyman', 'xylander', 'zellweger', 'zilberschlag', 'zimmerman', 'zimmermann']\n",
      "['santos', 'serafim', 'silva', 'silveira', 'simões', 'soares', 'souza', 'torres', 'vargas', 'ventura']\n",
      "['santos', 'serafim', 'silva', 'silveira', 'simoes', 'soares', 'souza', 'torres', 'vargas', 'ventura']\n",
      "['wyrick', 'wyrzyk', 'zabek', 'zawisza', 'zdunowski', 'zdunowski', 'zielinski', 'ziemniak', 'zientek', 'żuraw']\n",
      "['wyrick', 'wyrzyk', 'zabek', 'zawisza', 'zdunowski', 'zdunowski', 'zielinski', 'ziemniak', 'zientek', 'zuraw']\n"
     ]
    }
   ],
   "source": [
    "print(words_dict['German'][-10:])\n",
    "print(words_dict_cleaned['German'][-10:])\n",
    "print(words_dict['Portuguese'][-10:])\n",
    "print(words_dict_cleaned['Portuguese'][-10:])\n",
    "print(words_dict['Polish'][-10:])\n",
    "print(words_dict_cleaned['Polish'][-10:])"
   ]
  },
  {
   "cell_type": "code",
   "execution_count": 14,
   "metadata": {},
   "outputs": [],
   "source": [
    "words_dict = copy.deepcopy(words_dict_cleaned)\n",
    "del words_dict_cleaned"
   ]
  },
  {
   "cell_type": "markdown",
   "metadata": {},
   "source": [
    "# 3. Define Utilities"
   ]
  },
  {
   "cell_type": "code",
   "execution_count": 15,
   "metadata": {},
   "outputs": [
    {
     "name": "stdout",
     "output_type": "stream",
     "text": [
      "18 32\n"
     ]
    }
   ],
   "source": [
    "num_langs = len(words_dict.keys())\n",
    "num_chars = len(characters_all)\n",
    "print(num_langs, num_chars)"
   ]
  },
  {
   "cell_type": "code",
   "execution_count": 16,
   "metadata": {},
   "outputs": [
    {
     "name": "stdout",
     "output_type": "stream",
     "text": [
      "20\n"
     ]
    }
   ],
   "source": [
    "max_timesteps = 0 \n",
    "for language, words in words_dict.items():\n",
    "    for word in words:\n",
    "        if len(word) > max_timesteps:\n",
    "            max_timesteps = len(word)\n",
    "print(max_timesteps)"
   ]
  },
  {
   "cell_type": "code",
   "execution_count": 17,
   "metadata": {},
   "outputs": [
    {
     "name": "stdout",
     "output_type": "stream",
     "text": [
      "{'Arabic': 0, 'Chinese': 1, 'Czech': 2, 'Dutch': 3, 'English': 4, 'French': 5, 'German': 6, 'Greek': 7, 'Irish': 8, 'Italian': 9, 'Japanese': 10, 'Korean': 11, 'Polish': 12, 'Portuguese': 13, 'Russian': 14, 'Scottish': 15, 'Spanish': 16, 'Vietnamese': 17}\n"
     ]
    }
   ],
   "source": [
    "lang_to_id = {k:v for k,v in zip((sorted(list(words_dict.keys()))), range(len(words_dict.keys())))}\n",
    "print(lang_to_id)"
   ]
  },
  {
   "cell_type": "code",
   "execution_count": 18,
   "metadata": {},
   "outputs": [
    {
     "name": "stdout",
     "output_type": "stream",
     "text": [
      "{0: 'Arabic', 1: 'Chinese', 2: 'Czech', 3: 'Dutch', 4: 'English', 5: 'French', 6: 'German', 7: 'Greek', 8: 'Irish', 9: 'Italian', 10: 'Japanese', 11: 'Korean', 12: 'Polish', 13: 'Portuguese', 14: 'Russian', 15: 'Scottish', 16: 'Spanish', 17: 'Vietnamese'}\n"
     ]
    }
   ],
   "source": [
    "id_to_lang = {v:k for k,v in lang_to_id.items()}\n",
    "print(id_to_lang)"
   ]
  },
  {
   "cell_type": "code",
   "execution_count": 19,
   "metadata": {},
   "outputs": [
    {
     "name": "stdout",
     "output_type": "stream",
     "text": [
      "{'a': 0, 'b': 1, 'c': 2, 'd': 3, 'e': 4, 'f': 5, 'g': 6, 'h': 7, 'i': 8, 'j': 9, 'k': 10, 'l': 11, 'm': 12, 'n': 13, 'o': 14, 'p': 15, 'q': 16, 'r': 17, 's': 18, 't': 19, 'u': 20, 'v': 21, 'w': 22, 'x': 23, 'y': 24, 'z': 25, ' ': 26, '-': 27, \"'\": 28, ',': 29, ':': 30, ';': 31}\n"
     ]
    }
   ],
   "source": [
    "char_to_id = {k:v for k,v in zip(characters_all, range(len(characters_all)))}\n",
    "print(char_to_id)"
   ]
  },
  {
   "cell_type": "code",
   "execution_count": 20,
   "metadata": {},
   "outputs": [
    {
     "name": "stdout",
     "output_type": "stream",
     "text": [
      "{0: 'a', 1: 'b', 2: 'c', 3: 'd', 4: 'e', 5: 'f', 6: 'g', 7: 'h', 8: 'i', 9: 'j', 10: 'k', 11: 'l', 12: 'm', 13: 'n', 14: 'o', 15: 'p', 16: 'q', 17: 'r', 18: 's', 19: 't', 20: 'u', 21: 'v', 22: 'w', 23: 'x', 24: 'y', 25: 'z', 26: ' ', 27: '-', 28: \"'\", 29: ',', 30: ':', 31: ';'}\n"
     ]
    }
   ],
   "source": [
    "id_to_char = {v:k for k,v in char_to_id.items()}\n",
    "print(id_to_char)"
   ]
  },
  {
   "cell_type": "markdown",
   "metadata": {},
   "source": [
    "# 4. Split Data"
   ]
  },
  {
   "cell_type": "code",
   "execution_count": 21,
   "metadata": {},
   "outputs": [
    {
     "data": {
      "application/vnd.jupyter.widget-view+json": {
       "model_id": "5a936b25a81d424fa1282da448f5e2db",
       "version_major": 2,
       "version_minor": 0
      },
      "text/plain": [
       "  0%|          | 0/18 [00:00<?, ?it/s]"
      ]
     },
     "metadata": {},
     "output_type": "display_data"
    },
    {
     "name": "stdout",
     "output_type": "stream",
     "text": [
      "(20074, 2)\n"
     ]
    },
    {
     "data": {
      "text/html": [
       "<div>\n",
       "<style scoped>\n",
       "    .dataframe tbody tr th:only-of-type {\n",
       "        vertical-align: middle;\n",
       "    }\n",
       "\n",
       "    .dataframe tbody tr th {\n",
       "        vertical-align: top;\n",
       "    }\n",
       "\n",
       "    .dataframe thead th {\n",
       "        text-align: right;\n",
       "    }\n",
       "</style>\n",
       "<table border=\"1\" class=\"dataframe\">\n",
       "  <thead>\n",
       "    <tr style=\"text-align: right;\">\n",
       "      <th></th>\n",
       "      <th>word</th>\n",
       "      <th>language</th>\n",
       "    </tr>\n",
       "  </thead>\n",
       "  <tbody>\n",
       "    <tr>\n",
       "      <th>0</th>\n",
       "      <td>khoury</td>\n",
       "      <td>Arabic</td>\n",
       "    </tr>\n",
       "    <tr>\n",
       "      <th>1</th>\n",
       "      <td>nahas</td>\n",
       "      <td>Arabic</td>\n",
       "    </tr>\n",
       "    <tr>\n",
       "      <th>2</th>\n",
       "      <td>daher</td>\n",
       "      <td>Arabic</td>\n",
       "    </tr>\n",
       "    <tr>\n",
       "      <th>3</th>\n",
       "      <td>gerges</td>\n",
       "      <td>Arabic</td>\n",
       "    </tr>\n",
       "    <tr>\n",
       "      <th>4</th>\n",
       "      <td>nazari</td>\n",
       "      <td>Arabic</td>\n",
       "    </tr>\n",
       "  </tbody>\n",
       "</table>\n",
       "</div>"
      ],
      "text/plain": [
       "     word language\n",
       "0  khoury   Arabic\n",
       "1   nahas   Arabic\n",
       "2   daher   Arabic\n",
       "3  gerges   Arabic\n",
       "4  nazari   Arabic"
      ]
     },
     "execution_count": 21,
     "metadata": {},
     "output_type": "execute_result"
    }
   ],
   "source": [
    "words_df = []\n",
    "for language, words in tqdm(words_dict.items()):\n",
    "    for word in words:\n",
    "        words_df.append({\"word\": word, \"language\": language})\n",
    "words_df = pd.DataFrame(words_df)\n",
    "print(words_df.shape)\n",
    "words_df.head()"
   ]
  },
  {
   "cell_type": "code",
   "execution_count": 22,
   "metadata": {},
   "outputs": [
    {
     "name": "stdout",
     "output_type": "stream",
     "text": [
      "(16059, 2)\n",
      "(4015, 2)\n"
     ]
    }
   ],
   "source": [
    "words_df_train, words_df_test = train_test_split(words_df, train_size=0.8, stratify= words_df['language'], random_state=0)\n",
    "words_df_train = words_df_train.reset_index(drop=True)\n",
    "words_df_test = words_df_test.reset_index(drop=True)\n",
    "print(words_df_train.shape)\n",
    "print(words_df_test.shape)"
   ]
  },
  {
   "cell_type": "code",
   "execution_count": 23,
   "metadata": {},
   "outputs": [
    {
     "data": {
      "text/html": [
       "<div>\n",
       "<style scoped>\n",
       "    .dataframe tbody tr th:only-of-type {\n",
       "        vertical-align: middle;\n",
       "    }\n",
       "\n",
       "    .dataframe tbody tr th {\n",
       "        vertical-align: top;\n",
       "    }\n",
       "\n",
       "    .dataframe thead th {\n",
       "        text-align: right;\n",
       "    }\n",
       "</style>\n",
       "<table border=\"1\" class=\"dataframe\">\n",
       "  <thead>\n",
       "    <tr style=\"text-align: right;\">\n",
       "      <th>language</th>\n",
       "      <th>Arabic</th>\n",
       "      <th>Chinese</th>\n",
       "      <th>Czech</th>\n",
       "      <th>Dutch</th>\n",
       "      <th>English</th>\n",
       "      <th>French</th>\n",
       "      <th>German</th>\n",
       "      <th>Greek</th>\n",
       "      <th>Irish</th>\n",
       "      <th>Italian</th>\n",
       "      <th>Japanese</th>\n",
       "      <th>Korean</th>\n",
       "      <th>Polish</th>\n",
       "      <th>Portuguese</th>\n",
       "      <th>Russian</th>\n",
       "      <th>Scottish</th>\n",
       "      <th>Spanish</th>\n",
       "      <th>Vietnamese</th>\n",
       "      <th>Total</th>\n",
       "    </tr>\n",
       "  </thead>\n",
       "  <tbody>\n",
       "    <tr>\n",
       "      <th>Train</th>\n",
       "      <td>1600</td>\n",
       "      <td>214</td>\n",
       "      <td>415</td>\n",
       "      <td>238</td>\n",
       "      <td>2934</td>\n",
       "      <td>222</td>\n",
       "      <td>579</td>\n",
       "      <td>163</td>\n",
       "      <td>186</td>\n",
       "      <td>567</td>\n",
       "      <td>793</td>\n",
       "      <td>75</td>\n",
       "      <td>111</td>\n",
       "      <td>59</td>\n",
       "      <td>7526</td>\n",
       "      <td>80</td>\n",
       "      <td>238</td>\n",
       "      <td>59</td>\n",
       "      <td>16059</td>\n",
       "    </tr>\n",
       "    <tr>\n",
       "      <th>Test</th>\n",
       "      <td>400</td>\n",
       "      <td>54</td>\n",
       "      <td>104</td>\n",
       "      <td>59</td>\n",
       "      <td>734</td>\n",
       "      <td>55</td>\n",
       "      <td>145</td>\n",
       "      <td>40</td>\n",
       "      <td>46</td>\n",
       "      <td>142</td>\n",
       "      <td>198</td>\n",
       "      <td>19</td>\n",
       "      <td>28</td>\n",
       "      <td>15</td>\n",
       "      <td>1882</td>\n",
       "      <td>20</td>\n",
       "      <td>60</td>\n",
       "      <td>14</td>\n",
       "      <td>4015</td>\n",
       "    </tr>\n",
       "    <tr>\n",
       "      <th>Total</th>\n",
       "      <td>2000</td>\n",
       "      <td>268</td>\n",
       "      <td>519</td>\n",
       "      <td>297</td>\n",
       "      <td>3668</td>\n",
       "      <td>277</td>\n",
       "      <td>724</td>\n",
       "      <td>203</td>\n",
       "      <td>232</td>\n",
       "      <td>709</td>\n",
       "      <td>991</td>\n",
       "      <td>94</td>\n",
       "      <td>139</td>\n",
       "      <td>74</td>\n",
       "      <td>9408</td>\n",
       "      <td>100</td>\n",
       "      <td>298</td>\n",
       "      <td>73</td>\n",
       "      <td>20074</td>\n",
       "    </tr>\n",
       "  </tbody>\n",
       "</table>\n",
       "</div>"
      ],
      "text/plain": [
       "language  Arabic  Chinese  Czech  Dutch  English  French  German  Greek  \\\n",
       "Train       1600      214    415    238     2934     222     579    163   \n",
       "Test         400       54    104     59      734      55     145     40   \n",
       "Total       2000      268    519    297     3668     277     724    203   \n",
       "\n",
       "language  Irish  Italian  Japanese  Korean  Polish  Portuguese  Russian  \\\n",
       "Train       186      567       793      75     111          59     7526   \n",
       "Test         46      142       198      19      28          15     1882   \n",
       "Total       232      709       991      94     139          74     9408   \n",
       "\n",
       "language  Scottish  Spanish  Vietnamese  Total  \n",
       "Train           80      238          59  16059  \n",
       "Test            20       60          14   4015  \n",
       "Total          100      298          73  20074  "
      ]
     },
     "execution_count": 23,
     "metadata": {},
     "output_type": "execute_result"
    }
   ],
   "source": [
    "train_count = words_df_train['language'].value_counts().rename(\"Train\")\n",
    "test_count = words_df_test['language'].value_counts().rename(\"Test\")\n",
    "count = pd.concat([train_count, test_count], axis=1, sort=True).T\n",
    "count.loc[\"Total\", :] = count.sum(axis=0)\n",
    "count.loc[:, \"Total\"] = count.sum(axis=1)\n",
    "count = count.astype(\"int\")\n",
    "count"
   ]
  },
  {
   "cell_type": "markdown",
   "metadata": {},
   "source": [
    "# 5. Define Dataset"
   ]
  },
  {
   "cell_type": "code",
   "execution_count": 24,
   "metadata": {},
   "outputs": [],
   "source": [
    "class WordDataset(Dataset):\n",
    "    def __init__(self, words_df):\n",
    "        self.words_df = words_df\n",
    "\n",
    "    def __len__(self):\n",
    "        self.len = len(self.words_df)\n",
    "        return self.len\n",
    "    \n",
    "    def __getitem__(self, idx):\n",
    "        row = self.words_df.iloc[idx, :]\n",
    "        word = row[\"word\"].ljust(max_timesteps)\n",
    "        x = torch.zeros((max_timesteps, num_chars))\n",
    "        for i, char in enumerate(word):\n",
    "            x[i, char_to_id[char]] = 1\n",
    "        y = lang_to_id[row[\"language\"]]\n",
    "\n",
    "        return x,y"
   ]
  },
  {
   "cell_type": "code",
   "execution_count": 25,
   "metadata": {},
   "outputs": [],
   "source": [
    "train_set = WordDataset(words_df_train)\n",
    "test_set = WordDataset(words_df_test)"
   ]
  },
  {
   "cell_type": "markdown",
   "metadata": {},
   "source": [
    "# 6. Define DataLoader"
   ]
  },
  {
   "cell_type": "code",
   "execution_count": 26,
   "metadata": {},
   "outputs": [],
   "source": [
    "train_batch_size = 128\n",
    "test_batch_size = 4"
   ]
  },
  {
   "cell_type": "code",
   "execution_count": 27,
   "metadata": {},
   "outputs": [
    {
     "name": "stdout",
     "output_type": "stream",
     "text": [
      "8\n"
     ]
    }
   ],
   "source": [
    "num_cpus = os.cpu_count()\n",
    "print(num_cpus)"
   ]
  },
  {
   "cell_type": "code",
   "execution_count": 28,
   "metadata": {},
   "outputs": [],
   "source": [
    "train_loader = DataLoader(train_set, batch_size=train_batch_size, shuffle=True, num_workers=0)\n",
    "test_loader = DataLoader(test_set, batch_size=test_batch_size, shuffle=False, num_workers=0)"
   ]
  },
  {
   "cell_type": "code",
   "execution_count": 29,
   "metadata": {},
   "outputs": [
    {
     "name": "stdout",
     "output_type": "stream",
     "text": [
      "torch.Size([128, 20, 32]) torch.Size([128])\n"
     ]
    }
   ],
   "source": [
    "train_iter = iter(train_loader)\n",
    "X,Y = next(train_iter)\n",
    "print(X.size(), Y.size())"
   ]
  },
  {
   "cell_type": "code",
   "execution_count": 30,
   "metadata": {},
   "outputs": [
    {
     "name": "stdout",
     "output_type": "stream",
     "text": [
      "126\n"
     ]
    }
   ],
   "source": [
    "len_train_loader = len(train_loader)\n",
    "print(len_train_loader)"
   ]
  },
  {
   "cell_type": "markdown",
   "metadata": {},
   "source": [
    "# 7. Define Model"
   ]
  },
  {
   "cell_type": "code",
   "execution_count": 31,
   "metadata": {},
   "outputs": [],
   "source": [
    "hidden_size = 24\n",
    "num_layers = 2"
   ]
  },
  {
   "cell_type": "code",
   "execution_count": 32,
   "metadata": {},
   "outputs": [
    {
     "name": "stdout",
     "output_type": "stream",
     "text": [
      "cuda:0\n"
     ]
    }
   ],
   "source": [
    "device = \"cuda:0\" if torch.cuda.is_available() else \"cpu\"\n",
    "device = torch.device(device)\n",
    "print(device)"
   ]
  },
  {
   "cell_type": "code",
   "execution_count": 33,
   "metadata": {},
   "outputs": [],
   "source": [
    "class Model(nn.Module):\n",
    "    def __init__(self, input_size, output_size, hidden_size, num_layers):\n",
    "        super(Model, self).__init__()\n",
    "        self.hidden_size = hidden_size\n",
    "        self.num_layers = num_layers\n",
    "        self.lstm1 = nn.LSTM(input_size=input_size, hidden_size=hidden_size, num_layers=num_layers, batch_first=True)\n",
    "        self.fc2 = nn.Linear(in_features=hidden_size, out_features=output_size)\n",
    "\n",
    "    def forward(self, X):\n",
    "        batch_size = X.size(0)\n",
    "        h0 = torch.randn((self.num_layers, batch_size, self.hidden_size)).to(device)\n",
    "        c0 = torch.randn((self.num_layers, batch_size, self.hidden_size)).to(device)\n",
    "        out, ht = self.lstm1(X, (h0,c0))\n",
    "        outn = out[:, -1, :]\n",
    "        outn = outn.contiguous().view(batch_size, self.hidden_size)\n",
    "        outn = self.fc2(outn)\n",
    "        return outn"
   ]
  },
  {
   "cell_type": "code",
   "execution_count": 34,
   "metadata": {},
   "outputs": [
    {
     "name": "stdout",
     "output_type": "stream",
     "text": [
      "DataParallel(\n",
      "  (module): Model(\n",
      "    (lstm1): LSTM(32, 24, num_layers=2, batch_first=True)\n",
      "    (fc2): Linear(in_features=24, out_features=18, bias=True)\n",
      "  )\n",
      ")\n"
     ]
    }
   ],
   "source": [
    "model = Model(input_size=num_chars, output_size=num_langs, hidden_size=hidden_size, num_layers=num_layers)\n",
    "model = nn.DataParallel(model)\n",
    "model = model.to(device)\n",
    "print(model)"
   ]
  },
  {
   "cell_type": "code",
   "execution_count": 35,
   "metadata": {},
   "outputs": [
    {
     "name": "stdout",
     "output_type": "stream",
     "text": [
      "torch.float32\n",
      "torch.float32\n",
      "torch.float32\n",
      "torch.float32\n",
      "torch.float32\n",
      "torch.float32\n",
      "torch.float32\n",
      "torch.float32\n",
      "torch.float32\n",
      "torch.float32\n"
     ]
    }
   ],
   "source": [
    "for p in model.parameters():\n",
    "    print(p.dtype)"
   ]
  },
  {
   "cell_type": "markdown",
   "metadata": {},
   "source": [
    "# 8. Set Optimizer"
   ]
  },
  {
   "cell_type": "code",
   "execution_count": 36,
   "metadata": {},
   "outputs": [
    {
     "name": "stdout",
     "output_type": "stream",
     "text": [
      "504\n"
     ]
    }
   ],
   "source": [
    "lr = 0.01\n",
    "step_size = len_train_loader * 4\n",
    "gamma = 0.95\n",
    "print(step_size)"
   ]
  },
  {
   "cell_type": "code",
   "execution_count": 37,
   "metadata": {},
   "outputs": [
    {
     "name": "stdout",
     "output_type": "stream",
     "text": [
      "language\n",
      "Arabic        0.016187\n",
      "Chinese       0.054123\n",
      "Czech         0.036375\n",
      "Dutch         0.050779\n",
      "English       0.011250\n",
      "French        0.052944\n",
      "German        0.029787\n",
      "Greek         0.063726\n",
      "Irish         0.058874\n",
      "Italian       0.030163\n",
      "Japanese      0.024664\n",
      "Korean        0.101530\n",
      "Polish        0.080249\n",
      "Portuguese    0.117252\n",
      "Russian       0.006393\n",
      "Scottish      0.097673\n",
      "Spanish       0.050779\n",
      "Vietnamese    0.117252\n",
      "Name: count, dtype: float64\n"
     ]
    }
   ],
   "source": [
    "alpha = 0.6\n",
    "weights = len(words_df_train) / (words_df_train[\"language\"].value_counts() ** alpha)\n",
    "weights = weights / weights.sum()\n",
    "weights = weights.sort_index()\n",
    "print(weights)"
   ]
  },
  {
   "cell_type": "code",
   "execution_count": 38,
   "metadata": {},
   "outputs": [
    {
     "name": "stdout",
     "output_type": "stream",
     "text": [
      "tensor([0.0162, 0.0541, 0.0364, 0.0508, 0.0113, 0.0529, 0.0298, 0.0637, 0.0589,\n",
      "        0.0302, 0.0247, 0.1015, 0.0802, 0.1173, 0.0064, 0.0977, 0.0508, 0.1173],\n",
      "       device='cuda:0')\n"
     ]
    }
   ],
   "source": [
    "weights = torch.Tensor(weights).to(device)\n",
    "print(weights)"
   ]
  },
  {
   "cell_type": "code",
   "execution_count": 39,
   "metadata": {},
   "outputs": [],
   "source": [
    "criterion = nn.CrossEntropyLoss(weight=weights, reduction=\"mean\")\n",
    "optimizer = optim.Adam(model.parameters(), lr=lr)\n",
    "lr_scheduler = optim.lr_scheduler.StepLR(optimizer=optimizer, step_size=step_size, gamma=gamma)"
   ]
  },
  {
   "cell_type": "markdown",
   "metadata": {},
   "source": [
    "# 9. Train Model"
   ]
  },
  {
   "cell_type": "code",
   "execution_count": 40,
   "metadata": {},
   "outputs": [],
   "source": [
    "epochs = 100\n",
    "print_every_n_epochs = 1"
   ]
  },
  {
   "cell_type": "code",
   "execution_count": 41,
   "metadata": {},
   "outputs": [
    {
     "data": {
      "application/vnd.jupyter.widget-view+json": {
       "model_id": "bdf0db2ada574072983285a43c561bd4",
       "version_major": 2,
       "version_minor": 0
      },
      "text/plain": [
       "  0%|          | 0/100 [00:00<?, ?it/s]"
      ]
     },
     "metadata": {},
     "output_type": "display_data"
    },
    {
     "data": {
      "application/vnd.jupyter.widget-view+json": {
       "model_id": "d8a64499e2d14d838822195ba9068b43",
       "version_major": 2,
       "version_minor": 0
      },
      "text/plain": [
       "Epoch-1:   0%|          | 0/126 [00:00<?, ?it/s]"
      ]
     },
     "metadata": {},
     "output_type": "display_data"
    },
    {
     "name": "stderr",
     "output_type": "stream",
     "text": [
      "c:\\Users\\User\\anaconda3\\envs\\Dekalog\\Lib\\site-packages\\torch\\optim\\lr_scheduler.py:402: UserWarning: To get the last learning rate computed by the scheduler, please use `get_last_lr()`.\n",
      "  warnings.warn(\"To get the last learning rate computed by the scheduler, \"\n"
     ]
    },
    {
     "name": "stdout",
     "output_type": "stream",
     "text": [
      "Epoch:1     Loss:2.7297781989687966      LR:0.010000000000000007\n"
     ]
    },
    {
     "data": {
      "application/vnd.jupyter.widget-view+json": {
       "model_id": "4b50eb73451546ef94a858d3f7bb9624",
       "version_major": 2,
       "version_minor": 0
      },
      "text/plain": [
       "Epoch-2:   0%|          | 0/126 [00:00<?, ?it/s]"
      ]
     },
     "metadata": {},
     "output_type": "display_data"
    },
    {
     "name": "stdout",
     "output_type": "stream",
     "text": [
      "Epoch:2     Loss:2.657938304401579      LR:0.010000000000000007\n"
     ]
    },
    {
     "data": {
      "application/vnd.jupyter.widget-view+json": {
       "model_id": "fdcf528acdbe40759802a86e8623be7b",
       "version_major": 2,
       "version_minor": 0
      },
      "text/plain": [
       "Epoch-3:   0%|          | 0/126 [00:00<?, ?it/s]"
      ]
     },
     "metadata": {},
     "output_type": "display_data"
    },
    {
     "name": "stdout",
     "output_type": "stream",
     "text": [
      "Epoch:3     Loss:2.3615665256030978      LR:0.010000000000000007\n"
     ]
    },
    {
     "data": {
      "application/vnd.jupyter.widget-view+json": {
       "model_id": "d4525a2debe8409882c34c50c8c11d96",
       "version_major": 2,
       "version_minor": 0
      },
      "text/plain": [
       "Epoch-4:   0%|          | 0/126 [00:00<?, ?it/s]"
      ]
     },
     "metadata": {},
     "output_type": "display_data"
    },
    {
     "name": "stdout",
     "output_type": "stream",
     "text": [
      "Epoch:4     Loss:2.2048287306513106      LR:0.009992261904761912\n"
     ]
    },
    {
     "data": {
      "application/vnd.jupyter.widget-view+json": {
       "model_id": "916afca1d0e749e9b759114577c48b1a",
       "version_major": 2,
       "version_minor": 0
      },
      "text/plain": [
       "Epoch-5:   0%|          | 0/126 [00:00<?, ?it/s]"
      ]
     },
     "metadata": {},
     "output_type": "display_data"
    },
    {
     "name": "stdout",
     "output_type": "stream",
     "text": [
      "Epoch:5     Loss:2.113771411161574      LR:0.009499999999999993\n"
     ]
    },
    {
     "data": {
      "application/vnd.jupyter.widget-view+json": {
       "model_id": "b28801c4a9f64810890b5c1bbf6d10dc",
       "version_major": 2,
       "version_minor": 0
      },
      "text/plain": [
       "Epoch-6:   0%|          | 0/126 [00:00<?, ?it/s]"
      ]
     },
     "metadata": {},
     "output_type": "display_data"
    },
    {
     "name": "stdout",
     "output_type": "stream",
     "text": [
      "Epoch:6     Loss:1.9227132229577928      LR:0.009499999999999993\n"
     ]
    },
    {
     "data": {
      "application/vnd.jupyter.widget-view+json": {
       "model_id": "feb47d53bf244c45b3e3b9d0afb3f6a4",
       "version_major": 2,
       "version_minor": 0
      },
      "text/plain": [
       "Epoch-7:   0%|          | 0/126 [00:00<?, ?it/s]"
      ]
     },
     "metadata": {},
     "output_type": "display_data"
    },
    {
     "name": "stdout",
     "output_type": "stream",
     "text": [
      "Epoch:7     Loss:1.7575710264463273      LR:0.009499999999999993\n"
     ]
    },
    {
     "data": {
      "application/vnd.jupyter.widget-view+json": {
       "model_id": "79de33c2874a4b249ef780b4aef77335",
       "version_major": 2,
       "version_minor": 0
      },
      "text/plain": [
       "Epoch-8:   0%|          | 0/126 [00:00<?, ?it/s]"
      ]
     },
     "metadata": {},
     "output_type": "display_data"
    },
    {
     "name": "stdout",
     "output_type": "stream",
     "text": [
      "Epoch:8     Loss:1.6539220516643827      LR:0.009492648809523803\n"
     ]
    },
    {
     "data": {
      "application/vnd.jupyter.widget-view+json": {
       "model_id": "88934373651a4a8a9a0e5e8ef0e343f4",
       "version_major": 2,
       "version_minor": 0
      },
      "text/plain": [
       "Epoch-9:   0%|          | 0/126 [00:00<?, ?it/s]"
      ]
     },
     "metadata": {},
     "output_type": "display_data"
    },
    {
     "name": "stdout",
     "output_type": "stream",
     "text": [
      "Epoch:9     Loss:1.5682377607103377      LR:0.009024999999999986\n"
     ]
    },
    {
     "data": {
      "application/vnd.jupyter.widget-view+json": {
       "model_id": "585a493f73be48bcb7f6d26c96e40952",
       "version_major": 2,
       "version_minor": 0
      },
      "text/plain": [
       "Epoch-10:   0%|          | 0/126 [00:00<?, ?it/s]"
      ]
     },
     "metadata": {},
     "output_type": "display_data"
    },
    {
     "name": "stdout",
     "output_type": "stream",
     "text": [
      "Epoch:10     Loss:1.5377758438625033      LR:0.009024999999999986\n"
     ]
    },
    {
     "data": {
      "application/vnd.jupyter.widget-view+json": {
       "model_id": "ab81d12ddb2240c38432410c80a38355",
       "version_major": 2,
       "version_minor": 0
      },
      "text/plain": [
       "Epoch-11:   0%|          | 0/126 [00:00<?, ?it/s]"
      ]
     },
     "metadata": {},
     "output_type": "display_data"
    },
    {
     "name": "stdout",
     "output_type": "stream",
     "text": [
      "Epoch:11     Loss:1.4825405081113179      LR:0.009024999999999986\n"
     ]
    },
    {
     "data": {
      "application/vnd.jupyter.widget-view+json": {
       "model_id": "6cb1d3ce9c544bd0b52a9091544ec38c",
       "version_major": 2,
       "version_minor": 0
      },
      "text/plain": [
       "Epoch-12:   0%|          | 0/126 [00:00<?, ?it/s]"
      ]
     },
     "metadata": {},
     "output_type": "display_data"
    },
    {
     "name": "stdout",
     "output_type": "stream",
     "text": [
      "Epoch:12     Loss:1.4353222175249978      LR:0.009018016369047605\n"
     ]
    },
    {
     "data": {
      "application/vnd.jupyter.widget-view+json": {
       "model_id": "794e5099e9c84f99a62d6a023bbc2845",
       "version_major": 2,
       "version_minor": 0
      },
      "text/plain": [
       "Epoch-13:   0%|          | 0/126 [00:00<?, ?it/s]"
      ]
     },
     "metadata": {},
     "output_type": "display_data"
    },
    {
     "name": "stdout",
     "output_type": "stream",
     "text": [
      "Epoch:13     Loss:1.3934555526763674      LR:0.008573750000000022\n"
     ]
    },
    {
     "data": {
      "application/vnd.jupyter.widget-view+json": {
       "model_id": "d0c19b381e3c47feb6bb8ed9a5382771",
       "version_major": 2,
       "version_minor": 0
      },
      "text/plain": [
       "Epoch-14:   0%|          | 0/126 [00:00<?, ?it/s]"
      ]
     },
     "metadata": {},
     "output_type": "display_data"
    },
    {
     "name": "stdout",
     "output_type": "stream",
     "text": [
      "Epoch:14     Loss:1.3742344909244113      LR:0.008573750000000022\n"
     ]
    },
    {
     "data": {
      "application/vnd.jupyter.widget-view+json": {
       "model_id": "7a4ab813f12045a99b75da80f2139f52",
       "version_major": 2,
       "version_minor": 0
      },
      "text/plain": [
       "Epoch-15:   0%|          | 0/126 [00:00<?, ?it/s]"
      ]
     },
     "metadata": {},
     "output_type": "display_data"
    },
    {
     "name": "stdout",
     "output_type": "stream",
     "text": [
      "Epoch:15     Loss:1.331934629451661      LR:0.008573750000000022\n"
     ]
    },
    {
     "data": {
      "application/vnd.jupyter.widget-view+json": {
       "model_id": "001bbaa7b144434b996cdca9998c04cf",
       "version_major": 2,
       "version_minor": 0
      },
      "text/plain": [
       "Epoch-16:   0%|          | 0/126 [00:00<?, ?it/s]"
      ]
     },
     "metadata": {},
     "output_type": "display_data"
    },
    {
     "name": "stdout",
     "output_type": "stream",
     "text": [
      "Epoch:16     Loss:1.3055720646230002      LR:0.00856711555059526\n"
     ]
    },
    {
     "data": {
      "application/vnd.jupyter.widget-view+json": {
       "model_id": "ac470c4830a64f198baeb660ee783f6f",
       "version_major": 2,
       "version_minor": 0
      },
      "text/plain": [
       "Epoch-17:   0%|          | 0/126 [00:00<?, ?it/s]"
      ]
     },
     "metadata": {},
     "output_type": "display_data"
    },
    {
     "name": "stdout",
     "output_type": "stream",
     "text": [
      "Epoch:17     Loss:1.2778904485324072      LR:0.008145062500000013\n"
     ]
    },
    {
     "data": {
      "application/vnd.jupyter.widget-view+json": {
       "model_id": "8913ff1204f145ec969429c4e8eeec54",
       "version_major": 2,
       "version_minor": 0
      },
      "text/plain": [
       "Epoch-18:   0%|          | 0/126 [00:00<?, ?it/s]"
      ]
     },
     "metadata": {},
     "output_type": "display_data"
    },
    {
     "name": "stdout",
     "output_type": "stream",
     "text": [
      "Epoch:18     Loss:1.2839323504576607      LR:0.008145062500000013\n"
     ]
    },
    {
     "data": {
      "application/vnd.jupyter.widget-view+json": {
       "model_id": "15536314d07b4c4d9a3345d268baaadc",
       "version_major": 2,
       "version_minor": 0
      },
      "text/plain": [
       "Epoch-19:   0%|          | 0/126 [00:00<?, ?it/s]"
      ]
     },
     "metadata": {},
     "output_type": "display_data"
    },
    {
     "name": "stdout",
     "output_type": "stream",
     "text": [
      "Epoch:19     Loss:1.220367517736223      LR:0.008145062500000013\n"
     ]
    },
    {
     "data": {
      "application/vnd.jupyter.widget-view+json": {
       "model_id": "f6c6afb343ad4f098cc922b5d7bed553",
       "version_major": 2,
       "version_minor": 0
      },
      "text/plain": [
       "Epoch-20:   0%|          | 0/126 [00:00<?, ?it/s]"
      ]
     },
     "metadata": {},
     "output_type": "display_data"
    },
    {
     "name": "stdout",
     "output_type": "stream",
     "text": [
      "Epoch:20     Loss:1.2131419919786      LR:0.008138759773065489\n"
     ]
    },
    {
     "data": {
      "application/vnd.jupyter.widget-view+json": {
       "model_id": "c15b09a3b5aa4e32b87126bad9bdff0a",
       "version_major": 2,
       "version_minor": 0
      },
      "text/plain": [
       "Epoch-21:   0%|          | 0/126 [00:00<?, ?it/s]"
      ]
     },
     "metadata": {},
     "output_type": "display_data"
    },
    {
     "name": "stdout",
     "output_type": "stream",
     "text": [
      "Epoch:21     Loss:1.194190583058766      LR:0.00773780937500001\n"
     ]
    },
    {
     "data": {
      "application/vnd.jupyter.widget-view+json": {
       "model_id": "1389a2a4bfee4f00a16a0b73eaff004f",
       "version_major": 2,
       "version_minor": 0
      },
      "text/plain": [
       "Epoch-22:   0%|          | 0/126 [00:00<?, ?it/s]"
      ]
     },
     "metadata": {},
     "output_type": "display_data"
    },
    {
     "name": "stdout",
     "output_type": "stream",
     "text": [
      "Epoch:22     Loss:1.1654981682224879      LR:0.00773780937500001\n"
     ]
    },
    {
     "data": {
      "application/vnd.jupyter.widget-view+json": {
       "model_id": "71f5c756f6f04afab7634516d4f277ad",
       "version_major": 2,
       "version_minor": 0
      },
      "text/plain": [
       "Epoch-23:   0%|          | 0/126 [00:00<?, ?it/s]"
      ]
     },
     "metadata": {},
     "output_type": "display_data"
    },
    {
     "name": "stdout",
     "output_type": "stream",
     "text": [
      "Epoch:23     Loss:1.1383110005704185      LR:0.00773780937500001\n"
     ]
    },
    {
     "data": {
      "application/vnd.jupyter.widget-view+json": {
       "model_id": "7b382a5aefb742d38f1fde6a916b3639",
       "version_major": 2,
       "version_minor": 0
      },
      "text/plain": [
       "Epoch-24:   0%|          | 0/126 [00:00<?, ?it/s]"
      ]
     },
     "metadata": {},
     "output_type": "display_data"
    },
    {
     "name": "stdout",
     "output_type": "stream",
     "text": [
      "Epoch:24     Loss:1.1232325898276434      LR:0.007731821784412213\n"
     ]
    },
    {
     "data": {
      "application/vnd.jupyter.widget-view+json": {
       "model_id": "f1f2f433b0744d138964df482e34c741",
       "version_major": 2,
       "version_minor": 0
      },
      "text/plain": [
       "Epoch-25:   0%|          | 0/126 [00:00<?, ?it/s]"
      ]
     },
     "metadata": {},
     "output_type": "display_data"
    },
    {
     "name": "stdout",
     "output_type": "stream",
     "text": [
      "Epoch:25     Loss:1.1025108510539645      LR:0.007350918906249978\n"
     ]
    },
    {
     "data": {
      "application/vnd.jupyter.widget-view+json": {
       "model_id": "ebf09035054a434295175b528d1afb05",
       "version_major": 2,
       "version_minor": 0
      },
      "text/plain": [
       "Epoch-26:   0%|          | 0/126 [00:00<?, ?it/s]"
      ]
     },
     "metadata": {},
     "output_type": "display_data"
    },
    {
     "name": "stdout",
     "output_type": "stream",
     "text": [
      "Epoch:26     Loss:1.0846021709934113      LR:0.007350918906249978\n"
     ]
    },
    {
     "data": {
      "application/vnd.jupyter.widget-view+json": {
       "model_id": "93865a374651469fb1b1d0bf769bd7d1",
       "version_major": 2,
       "version_minor": 0
      },
      "text/plain": [
       "Epoch-27:   0%|          | 0/126 [00:00<?, ?it/s]"
      ]
     },
     "metadata": {},
     "output_type": "display_data"
    },
    {
     "name": "stdout",
     "output_type": "stream",
     "text": [
      "Epoch:27     Loss:1.078676949890833      LR:0.007350918906249978\n"
     ]
    },
    {
     "data": {
      "application/vnd.jupyter.widget-view+json": {
       "model_id": "d023378d6ca5423dabca3d615ad2c5cc",
       "version_major": 2,
       "version_minor": 0
      },
      "text/plain": [
       "Epoch-28:   0%|          | 0/126 [00:00<?, ?it/s]"
      ]
     },
     "metadata": {},
     "output_type": "display_data"
    },
    {
     "name": "stdout",
     "output_type": "stream",
     "text": [
      "Epoch:28     Loss:1.0474484752094935      LR:0.0073452306951915704\n"
     ]
    },
    {
     "data": {
      "application/vnd.jupyter.widget-view+json": {
       "model_id": "c652297fe4be404698c2b281aff57f57",
       "version_major": 2,
       "version_minor": 0
      },
      "text/plain": [
       "Epoch-29:   0%|          | 0/126 [00:00<?, ?it/s]"
      ]
     },
     "metadata": {},
     "output_type": "display_data"
    },
    {
     "name": "stdout",
     "output_type": "stream",
     "text": [
      "Epoch:29     Loss:1.03255818713279      LR:0.00698337296093751\n"
     ]
    },
    {
     "data": {
      "application/vnd.jupyter.widget-view+json": {
       "model_id": "1d742b854a5541a396edc3906be3ad01",
       "version_major": 2,
       "version_minor": 0
      },
      "text/plain": [
       "Epoch-30:   0%|          | 0/126 [00:00<?, ?it/s]"
      ]
     },
     "metadata": {},
     "output_type": "display_data"
    },
    {
     "name": "stdout",
     "output_type": "stream",
     "text": [
      "Epoch:30     Loss:1.0148729667777108      LR:0.00698337296093751\n"
     ]
    },
    {
     "data": {
      "application/vnd.jupyter.widget-view+json": {
       "model_id": "3310b3d9d1e14bcdb0fa2f0fd5e9f299",
       "version_major": 2,
       "version_minor": 0
      },
      "text/plain": [
       "Epoch-31:   0%|          | 0/126 [00:00<?, ?it/s]"
      ]
     },
     "metadata": {},
     "output_type": "display_data"
    },
    {
     "name": "stdout",
     "output_type": "stream",
     "text": [
      "Epoch:31     Loss:1.033242047306091      LR:0.00698337296093751\n"
     ]
    },
    {
     "data": {
      "application/vnd.jupyter.widget-view+json": {
       "model_id": "f21e06449792406bb4339daf21e678fc",
       "version_major": 2,
       "version_minor": 0
      },
      "text/plain": [
       "Epoch-32:   0%|          | 0/126 [00:00<?, ?it/s]"
      ]
     },
     "metadata": {},
     "output_type": "display_data"
    },
    {
     "name": "stdout",
     "output_type": "stream",
     "text": [
      "Epoch:32     Loss:0.9931942654980553      LR:0.006977969160432022\n"
     ]
    },
    {
     "data": {
      "application/vnd.jupyter.widget-view+json": {
       "model_id": "aac7adadcd344fc2be47144740d1e870",
       "version_major": 2,
       "version_minor": 0
      },
      "text/plain": [
       "Epoch-33:   0%|          | 0/126 [00:00<?, ?it/s]"
      ]
     },
     "metadata": {},
     "output_type": "display_data"
    },
    {
     "name": "stdout",
     "output_type": "stream",
     "text": [
      "Epoch:33     Loss:0.9671537322657449      LR:0.006634204312890632\n"
     ]
    },
    {
     "data": {
      "application/vnd.jupyter.widget-view+json": {
       "model_id": "0145d300c2ca4537a376a45d673033b4",
       "version_major": 2,
       "version_minor": 0
      },
      "text/plain": [
       "Epoch-34:   0%|          | 0/126 [00:00<?, ?it/s]"
      ]
     },
     "metadata": {},
     "output_type": "display_data"
    },
    {
     "name": "stdout",
     "output_type": "stream",
     "text": [
      "Epoch:34     Loss:0.9577547959865086      LR:0.006634204312890632\n"
     ]
    },
    {
     "data": {
      "application/vnd.jupyter.widget-view+json": {
       "model_id": "4215c44039574ef5b0827e59fd59d22e",
       "version_major": 2,
       "version_minor": 0
      },
      "text/plain": [
       "Epoch-35:   0%|          | 0/126 [00:00<?, ?it/s]"
      ]
     },
     "metadata": {},
     "output_type": "display_data"
    },
    {
     "name": "stdout",
     "output_type": "stream",
     "text": [
      "Epoch:35     Loss:0.9808132733617511      LR:0.006634204312890632\n"
     ]
    },
    {
     "data": {
      "application/vnd.jupyter.widget-view+json": {
       "model_id": "7d953996b7a343b1836a9ef021a87ad2",
       "version_major": 2,
       "version_minor": 0
      },
      "text/plain": [
       "Epoch-36:   0%|          | 0/126 [00:00<?, ?it/s]"
      ]
     },
     "metadata": {},
     "output_type": "display_data"
    },
    {
     "name": "stdout",
     "output_type": "stream",
     "text": [
      "Epoch:36     Loss:0.9462033727812389      LR:0.006629070702410419\n"
     ]
    },
    {
     "data": {
      "application/vnd.jupyter.widget-view+json": {
       "model_id": "791b103568da4ef09b3eca510c8047c6",
       "version_major": 2,
       "version_minor": 0
      },
      "text/plain": [
       "Epoch-37:   0%|          | 0/126 [00:00<?, ?it/s]"
      ]
     },
     "metadata": {},
     "output_type": "display_data"
    },
    {
     "name": "stdout",
     "output_type": "stream",
     "text": [
      "Epoch:37     Loss:0.9351366630622319      LR:0.006302494097246071\n"
     ]
    },
    {
     "data": {
      "application/vnd.jupyter.widget-view+json": {
       "model_id": "024ead6943c04138ae10139a58988254",
       "version_major": 2,
       "version_minor": 0
      },
      "text/plain": [
       "Epoch-38:   0%|          | 0/126 [00:00<?, ?it/s]"
      ]
     },
     "metadata": {},
     "output_type": "display_data"
    },
    {
     "name": "stdout",
     "output_type": "stream",
     "text": [
      "Epoch:38     Loss:0.9228038877721817      LR:0.006302494097246071\n"
     ]
    },
    {
     "data": {
      "application/vnd.jupyter.widget-view+json": {
       "model_id": "4a123cf9d0714ee1b905cecbd06e2364",
       "version_major": 2,
       "version_minor": 0
      },
      "text/plain": [
       "Epoch-39:   0%|          | 0/126 [00:00<?, ?it/s]"
      ]
     },
     "metadata": {},
     "output_type": "display_data"
    },
    {
     "name": "stdout",
     "output_type": "stream",
     "text": [
      "Epoch:39     Loss:0.920873441866466      LR:0.006302494097246071\n"
     ]
    },
    {
     "data": {
      "application/vnd.jupyter.widget-view+json": {
       "model_id": "e527af42648e49caa0946a36332fd341",
       "version_major": 2,
       "version_minor": 0
      },
      "text/plain": [
       "Epoch-40:   0%|          | 0/126 [00:00<?, ?it/s]"
      ]
     },
     "metadata": {},
     "output_type": "display_data"
    },
    {
     "name": "stdout",
     "output_type": "stream",
     "text": [
      "Epoch:40     Loss:0.8896173416149049      LR:0.006297617167289869\n"
     ]
    },
    {
     "data": {
      "application/vnd.jupyter.widget-view+json": {
       "model_id": "b52755ea82d144438710acc76961ec37",
       "version_major": 2,
       "version_minor": 0
      },
      "text/plain": [
       "Epoch-41:   0%|          | 0/126 [00:00<?, ?it/s]"
      ]
     },
     "metadata": {},
     "output_type": "display_data"
    },
    {
     "name": "stdout",
     "output_type": "stream",
     "text": [
      "Epoch:41     Loss:0.9053911703919607      LR:0.005987369392383785\n"
     ]
    },
    {
     "data": {
      "application/vnd.jupyter.widget-view+json": {
       "model_id": "40c0ded557a6433ab561a84f2c18a122",
       "version_major": 2,
       "version_minor": 0
      },
      "text/plain": [
       "Epoch-42:   0%|          | 0/126 [00:00<?, ?it/s]"
      ]
     },
     "metadata": {},
     "output_type": "display_data"
    },
    {
     "name": "stdout",
     "output_type": "stream",
     "text": [
      "Epoch:42     Loss:0.8761482399607462      LR:0.005987369392383785\n"
     ]
    },
    {
     "data": {
      "application/vnd.jupyter.widget-view+json": {
       "model_id": "a3168b86ce914604a3e462ca73653831",
       "version_major": 2,
       "version_minor": 0
      },
      "text/plain": [
       "Epoch-43:   0%|          | 0/126 [00:00<?, ?it/s]"
      ]
     },
     "metadata": {},
     "output_type": "display_data"
    },
    {
     "name": "stdout",
     "output_type": "stream",
     "text": [
      "Epoch:43     Loss:0.8648923521950131      LR:0.005987369392383785\n"
     ]
    },
    {
     "data": {
      "application/vnd.jupyter.widget-view+json": {
       "model_id": "fc563e2fa5414c219871694ca2b67eb3",
       "version_major": 2,
       "version_minor": 0
      },
      "text/plain": [
       "Epoch-44:   0%|          | 0/126 [00:00<?, ?it/s]"
      ]
     },
     "metadata": {},
     "output_type": "display_data"
    },
    {
     "name": "stdout",
     "output_type": "stream",
     "text": [
      "Epoch:44     Loss:0.8552545233378335      LR:0.005982736308925393\n"
     ]
    },
    {
     "data": {
      "application/vnd.jupyter.widget-view+json": {
       "model_id": "2f8d773701c4409081d10a41cb921c70",
       "version_major": 2,
       "version_minor": 0
      },
      "text/plain": [
       "Epoch-45:   0%|          | 0/126 [00:00<?, ?it/s]"
      ]
     },
     "metadata": {},
     "output_type": "display_data"
    },
    {
     "name": "stdout",
     "output_type": "stream",
     "text": [
      "Epoch:45     Loss:0.8553946297320109      LR:0.005688000922764589\n"
     ]
    },
    {
     "data": {
      "application/vnd.jupyter.widget-view+json": {
       "model_id": "5428933526424c0eb45276fda0d79682",
       "version_major": 2,
       "version_minor": 0
      },
      "text/plain": [
       "Epoch-46:   0%|          | 0/126 [00:00<?, ?it/s]"
      ]
     },
     "metadata": {},
     "output_type": "display_data"
    },
    {
     "name": "stdout",
     "output_type": "stream",
     "text": [
      "Epoch:46     Loss:0.854568851845605      LR:0.005688000922764589\n"
     ]
    },
    {
     "data": {
      "application/vnd.jupyter.widget-view+json": {
       "model_id": "f39d4d84e5e943a3ae8370e2d40727d3",
       "version_major": 2,
       "version_minor": 0
      },
      "text/plain": [
       "Epoch-47:   0%|          | 0/126 [00:00<?, ?it/s]"
      ]
     },
     "metadata": {},
     "output_type": "display_data"
    },
    {
     "name": "stdout",
     "output_type": "stream",
     "text": [
      "Epoch:47     Loss:0.837064771898209      LR:0.005688000922764589\n"
     ]
    },
    {
     "data": {
      "application/vnd.jupyter.widget-view+json": {
       "model_id": "d826ac1501ee4be2a2ba2ab1e32bf5f6",
       "version_major": 2,
       "version_minor": 0
      },
      "text/plain": [
       "Epoch-48:   0%|          | 0/126 [00:00<?, ?it/s]"
      ]
     },
     "metadata": {},
     "output_type": "display_data"
    },
    {
     "name": "stdout",
     "output_type": "stream",
     "text": [
      "Epoch:48     Loss:0.8392690614102378      LR:0.005683599493479116\n"
     ]
    },
    {
     "data": {
      "application/vnd.jupyter.widget-view+json": {
       "model_id": "7d6a54d451fc48fea88aa98689f2a42e",
       "version_major": 2,
       "version_minor": 0
      },
      "text/plain": [
       "Epoch-49:   0%|          | 0/126 [00:00<?, ?it/s]"
      ]
     },
     "metadata": {},
     "output_type": "display_data"
    },
    {
     "name": "stdout",
     "output_type": "stream",
     "text": [
      "Epoch:49     Loss:0.8504334506061342      LR:0.005403600876626381\n"
     ]
    },
    {
     "data": {
      "application/vnd.jupyter.widget-view+json": {
       "model_id": "a26f7597f4da4579a528018205bb6845",
       "version_major": 2,
       "version_minor": 0
      },
      "text/plain": [
       "Epoch-50:   0%|          | 0/126 [00:00<?, ?it/s]"
      ]
     },
     "metadata": {},
     "output_type": "display_data"
    },
    {
     "name": "stdout",
     "output_type": "stream",
     "text": [
      "Epoch:50     Loss:0.8278559297323227      LR:0.005403600876626381\n"
     ]
    },
    {
     "data": {
      "application/vnd.jupyter.widget-view+json": {
       "model_id": "cab19a8b3fed4da7b8edde40d4c42d66",
       "version_major": 2,
       "version_minor": 0
      },
      "text/plain": [
       "Epoch-51:   0%|          | 0/126 [00:00<?, ?it/s]"
      ]
     },
     "metadata": {},
     "output_type": "display_data"
    },
    {
     "name": "stdout",
     "output_type": "stream",
     "text": [
      "Epoch:51     Loss:0.802569425531796      LR:0.005403600876626381\n"
     ]
    },
    {
     "data": {
      "application/vnd.jupyter.widget-view+json": {
       "model_id": "a4e78c232f9c46d991b6dec075f3a0eb",
       "version_major": 2,
       "version_minor": 0
      },
      "text/plain": [
       "Epoch-52:   0%|          | 0/126 [00:00<?, ?it/s]"
      ]
     },
     "metadata": {},
     "output_type": "display_data"
    },
    {
     "name": "stdout",
     "output_type": "stream",
     "text": [
      "Epoch:52     Loss:0.8060649437090707      LR:0.005399419518805181\n"
     ]
    },
    {
     "data": {
      "application/vnd.jupyter.widget-view+json": {
       "model_id": "a2881759011c4fe1860bf56f66019523",
       "version_major": 2,
       "version_minor": 0
      },
      "text/plain": [
       "Epoch-53:   0%|          | 0/126 [00:00<?, ?it/s]"
      ]
     },
     "metadata": {},
     "output_type": "display_data"
    },
    {
     "name": "stdout",
     "output_type": "stream",
     "text": [
      "Epoch:53     Loss:0.7900183929337395      LR:0.005133420832795042\n"
     ]
    },
    {
     "data": {
      "application/vnd.jupyter.widget-view+json": {
       "model_id": "16bdbd82df2e44f9a01fbe123614b21f",
       "version_major": 2,
       "version_minor": 0
      },
      "text/plain": [
       "Epoch-54:   0%|          | 0/126 [00:00<?, ?it/s]"
      ]
     },
     "metadata": {},
     "output_type": "display_data"
    },
    {
     "name": "stdout",
     "output_type": "stream",
     "text": [
      "Epoch:54     Loss:0.7864357207029585      LR:0.005133420832795042\n"
     ]
    },
    {
     "data": {
      "application/vnd.jupyter.widget-view+json": {
       "model_id": "cd3cc5900ecb44a398a3838e7d7284cd",
       "version_major": 2,
       "version_minor": 0
      },
      "text/plain": [
       "Epoch-55:   0%|          | 0/126 [00:00<?, ?it/s]"
      ]
     },
     "metadata": {},
     "output_type": "display_data"
    },
    {
     "name": "stdout",
     "output_type": "stream",
     "text": [
      "Epoch:55     Loss:0.7719638995707981      LR:0.005133420832795042\n"
     ]
    },
    {
     "data": {
      "application/vnd.jupyter.widget-view+json": {
       "model_id": "7bc10d06c4774f06afbdb713b8f8dc52",
       "version_major": 2,
       "version_minor": 0
      },
      "text/plain": [
       "Epoch-56:   0%|          | 0/126 [00:00<?, ?it/s]"
      ]
     },
     "metadata": {},
     "output_type": "display_data"
    },
    {
     "name": "stdout",
     "output_type": "stream",
     "text": [
      "Epoch:56     Loss:0.7811477579294689      LR:0.005129448542864903\n"
     ]
    },
    {
     "data": {
      "application/vnd.jupyter.widget-view+json": {
       "model_id": "903b2c67334c457bb95155c58f3912e8",
       "version_major": 2,
       "version_minor": 0
      },
      "text/plain": [
       "Epoch-57:   0%|          | 0/126 [00:00<?, ?it/s]"
      ]
     },
     "metadata": {},
     "output_type": "display_data"
    },
    {
     "name": "stdout",
     "output_type": "stream",
     "text": [
      "Epoch:57     Loss:0.7538726353456103      LR:0.004876749791155301\n"
     ]
    },
    {
     "data": {
      "application/vnd.jupyter.widget-view+json": {
       "model_id": "c6fc0c21dcbb4824aed2b8522ca2436b",
       "version_major": 2,
       "version_minor": 0
      },
      "text/plain": [
       "Epoch-58:   0%|          | 0/126 [00:00<?, ?it/s]"
      ]
     },
     "metadata": {},
     "output_type": "display_data"
    },
    {
     "name": "stdout",
     "output_type": "stream",
     "text": [
      "Epoch:58     Loss:0.7647677345408334      LR:0.004876749791155301\n"
     ]
    },
    {
     "data": {
      "application/vnd.jupyter.widget-view+json": {
       "model_id": "cee263b6eee8406daefc80bf8e0a5c21",
       "version_major": 2,
       "version_minor": 0
      },
      "text/plain": [
       "Epoch-59:   0%|          | 0/126 [00:00<?, ?it/s]"
      ]
     },
     "metadata": {},
     "output_type": "display_data"
    },
    {
     "name": "stdout",
     "output_type": "stream",
     "text": [
      "Epoch:59     Loss:0.7457822282162924      LR:0.004876749791155301\n"
     ]
    },
    {
     "data": {
      "application/vnd.jupyter.widget-view+json": {
       "model_id": "8afd04411e76455ebed287da4ad4bd32",
       "version_major": 2,
       "version_minor": 0
      },
      "text/plain": [
       "Epoch-60:   0%|          | 0/126 [00:00<?, ?it/s]"
      ]
     },
     "metadata": {},
     "output_type": "display_data"
    },
    {
     "name": "stdout",
     "output_type": "stream",
     "text": [
      "Epoch:60     Loss:0.7518362745879188      LR:0.004872976115721669\n"
     ]
    },
    {
     "data": {
      "application/vnd.jupyter.widget-view+json": {
       "model_id": "5fa745e92522403492c66b8aaac0b3b4",
       "version_major": 2,
       "version_minor": 0
      },
      "text/plain": [
       "Epoch-61:   0%|          | 0/126 [00:00<?, ?it/s]"
      ]
     },
     "metadata": {},
     "output_type": "display_data"
    },
    {
     "name": "stdout",
     "output_type": "stream",
     "text": [
      "Epoch:61     Loss:0.7476391983883721      LR:0.004632912301597531\n"
     ]
    },
    {
     "data": {
      "application/vnd.jupyter.widget-view+json": {
       "model_id": "5d37094755d04930ab500d508cde6c60",
       "version_major": 2,
       "version_minor": 0
      },
      "text/plain": [
       "Epoch-62:   0%|          | 0/126 [00:00<?, ?it/s]"
      ]
     },
     "metadata": {},
     "output_type": "display_data"
    },
    {
     "name": "stdout",
     "output_type": "stream",
     "text": [
      "Epoch:62     Loss:0.7578474049057279      LR:0.004632912301597531\n"
     ]
    },
    {
     "data": {
      "application/vnd.jupyter.widget-view+json": {
       "model_id": "3e8c76b196bc4ae3bf4b4750a6315a56",
       "version_major": 2,
       "version_minor": 0
      },
      "text/plain": [
       "Epoch-63:   0%|          | 0/126 [00:00<?, ?it/s]"
      ]
     },
     "metadata": {},
     "output_type": "display_data"
    },
    {
     "name": "stdout",
     "output_type": "stream",
     "text": [
      "Epoch:63     Loss:0.7293131334914101      LR:0.004632912301597531\n"
     ]
    },
    {
     "data": {
      "application/vnd.jupyter.widget-view+json": {
       "model_id": "6d22b635b5f748f7aca5b753d142f498",
       "version_major": 2,
       "version_minor": 0
      },
      "text/plain": [
       "Epoch-64:   0%|          | 0/126 [00:00<?, ?it/s]"
      ]
     },
     "metadata": {},
     "output_type": "display_data"
    },
    {
     "name": "stdout",
     "output_type": "stream",
     "text": [
      "Epoch:64     Loss:0.7374989265014255      LR:0.004629327309935581\n"
     ]
    },
    {
     "data": {
      "application/vnd.jupyter.widget-view+json": {
       "model_id": "d87b880f8add4c92810a4537c0f4e72e",
       "version_major": 2,
       "version_minor": 0
      },
      "text/plain": [
       "Epoch-65:   0%|          | 0/126 [00:00<?, ?it/s]"
      ]
     },
     "metadata": {},
     "output_type": "display_data"
    },
    {
     "name": "stdout",
     "output_type": "stream",
     "text": [
      "Epoch:65     Loss:0.7109634552210097      LR:0.004401266686517646\n"
     ]
    },
    {
     "data": {
      "application/vnd.jupyter.widget-view+json": {
       "model_id": "41c4a3db1c724933b96f39cddd573312",
       "version_major": 2,
       "version_minor": 0
      },
      "text/plain": [
       "Epoch-66:   0%|          | 0/126 [00:00<?, ?it/s]"
      ]
     },
     "metadata": {},
     "output_type": "display_data"
    },
    {
     "name": "stdout",
     "output_type": "stream",
     "text": [
      "Epoch:66     Loss:0.7061975598335266      LR:0.004401266686517646\n"
     ]
    },
    {
     "data": {
      "application/vnd.jupyter.widget-view+json": {
       "model_id": "fa0539cf30b84317aec0fd3c06d9df5d",
       "version_major": 2,
       "version_minor": 0
      },
      "text/plain": [
       "Epoch-67:   0%|          | 0/126 [00:00<?, ?it/s]"
      ]
     },
     "metadata": {},
     "output_type": "display_data"
    },
    {
     "name": "stdout",
     "output_type": "stream",
     "text": [
      "Epoch:67     Loss:0.7157601016381431      LR:0.004401266686517646\n"
     ]
    },
    {
     "data": {
      "application/vnd.jupyter.widget-view+json": {
       "model_id": "a9d8f640c68c4e01b13654de4226bc44",
       "version_major": 2,
       "version_minor": 0
      },
      "text/plain": [
       "Epoch-68:   0%|          | 0/126 [00:00<?, ?it/s]"
      ]
     },
     "metadata": {},
     "output_type": "display_data"
    },
    {
     "name": "stdout",
     "output_type": "stream",
     "text": [
      "Epoch:68     Loss:0.7160670452174687      LR:0.004397860944438793\n"
     ]
    },
    {
     "data": {
      "application/vnd.jupyter.widget-view+json": {
       "model_id": "964cbbb9d3984db187100335f1f59d30",
       "version_major": 2,
       "version_minor": 0
      },
      "text/plain": [
       "Epoch-69:   0%|          | 0/126 [00:00<?, ?it/s]"
      ]
     },
     "metadata": {},
     "output_type": "display_data"
    },
    {
     "name": "stdout",
     "output_type": "stream",
     "text": [
      "Epoch:69     Loss:0.6982543513415351      LR:0.004181203352191782\n"
     ]
    },
    {
     "data": {
      "application/vnd.jupyter.widget-view+json": {
       "model_id": "a613943d2c8d43d8883e5c1a662a0359",
       "version_major": 2,
       "version_minor": 0
      },
      "text/plain": [
       "Epoch-70:   0%|          | 0/126 [00:00<?, ?it/s]"
      ]
     },
     "metadata": {},
     "output_type": "display_data"
    },
    {
     "name": "stdout",
     "output_type": "stream",
     "text": [
      "Epoch:70     Loss:0.6985115477490047      LR:0.004181203352191782\n"
     ]
    },
    {
     "data": {
      "application/vnd.jupyter.widget-view+json": {
       "model_id": "431eb45756ea489496f6b9fe00f15153",
       "version_major": 2,
       "version_minor": 0
      },
      "text/plain": [
       "Epoch-71:   0%|          | 0/126 [00:00<?, ?it/s]"
      ]
     },
     "metadata": {},
     "output_type": "display_data"
    },
    {
     "name": "stdout",
     "output_type": "stream",
     "text": [
      "Epoch:71     Loss:0.6802945707052473      LR:0.004181203352191782\n"
     ]
    },
    {
     "data": {
      "application/vnd.jupyter.widget-view+json": {
       "model_id": "066b0ec91a164a9a87f22c85e0425db5",
       "version_major": 2,
       "version_minor": 0
      },
      "text/plain": [
       "Epoch-72:   0%|          | 0/126 [00:00<?, ?it/s]"
      ]
     },
     "metadata": {},
     "output_type": "display_data"
    },
    {
     "name": "stdout",
     "output_type": "stream",
     "text": [
      "Epoch:72     Loss:0.6758551895618439      LR:0.004177967897216871\n"
     ]
    },
    {
     "data": {
      "application/vnd.jupyter.widget-view+json": {
       "model_id": "4e17753b46e64ec69f6c774ac241de24",
       "version_major": 2,
       "version_minor": 0
      },
      "text/plain": [
       "Epoch-73:   0%|          | 0/126 [00:00<?, ?it/s]"
      ]
     },
     "metadata": {},
     "output_type": "display_data"
    },
    {
     "name": "stdout",
     "output_type": "stream",
     "text": [
      "Epoch:73     Loss:0.6634765855140157      LR:0.003972143184582177\n"
     ]
    },
    {
     "data": {
      "application/vnd.jupyter.widget-view+json": {
       "model_id": "b1bc7e62e9bd407da1ee581936925be5",
       "version_major": 2,
       "version_minor": 0
      },
      "text/plain": [
       "Epoch-74:   0%|          | 0/126 [00:00<?, ?it/s]"
      ]
     },
     "metadata": {},
     "output_type": "display_data"
    },
    {
     "name": "stdout",
     "output_type": "stream",
     "text": [
      "Epoch:74     Loss:0.6853553416236998      LR:0.003972143184582177\n"
     ]
    },
    {
     "data": {
      "application/vnd.jupyter.widget-view+json": {
       "model_id": "a687ba2d120d4aa8824dddee0c4ff3b3",
       "version_major": 2,
       "version_minor": 0
      },
      "text/plain": [
       "Epoch-75:   0%|          | 0/126 [00:00<?, ?it/s]"
      ]
     },
     "metadata": {},
     "output_type": "display_data"
    },
    {
     "name": "stdout",
     "output_type": "stream",
     "text": [
      "Epoch:75     Loss:0.6708230489776248      LR:0.003972143184582177\n"
     ]
    },
    {
     "data": {
      "application/vnd.jupyter.widget-view+json": {
       "model_id": "c2a4379175e14edc9bfa2c9f871f5ae6",
       "version_major": 2,
       "version_minor": 0
      },
      "text/plain": [
       "Epoch-76:   0%|          | 0/126 [00:00<?, ?it/s]"
      ]
     },
     "metadata": {},
     "output_type": "display_data"
    },
    {
     "name": "stdout",
     "output_type": "stream",
     "text": [
      "Epoch:76     Loss:0.6746908092782611      LR:0.003969069502356013\n"
     ]
    },
    {
     "data": {
      "application/vnd.jupyter.widget-view+json": {
       "model_id": "4db05dbb8ae34f6b935ec1299d560fae",
       "version_major": 2,
       "version_minor": 0
      },
      "text/plain": [
       "Epoch-77:   0%|          | 0/126 [00:00<?, ?it/s]"
      ]
     },
     "metadata": {},
     "output_type": "display_data"
    },
    {
     "name": "stdout",
     "output_type": "stream",
     "text": [
      "Epoch:77     Loss:0.6636703142098018      LR:0.0037735360253530743\n"
     ]
    },
    {
     "data": {
      "application/vnd.jupyter.widget-view+json": {
       "model_id": "ffcb8a30188d4883a315fa6df0d20911",
       "version_major": 2,
       "version_minor": 0
      },
      "text/plain": [
       "Epoch-78:   0%|          | 0/126 [00:00<?, ?it/s]"
      ]
     },
     "metadata": {},
     "output_type": "display_data"
    },
    {
     "name": "stdout",
     "output_type": "stream",
     "text": [
      "Epoch:78     Loss:0.6479615318396735      LR:0.0037735360253530743\n"
     ]
    },
    {
     "data": {
      "application/vnd.jupyter.widget-view+json": {
       "model_id": "5905f2dee9634bc4a3c5db20766d2a46",
       "version_major": 2,
       "version_minor": 0
      },
      "text/plain": [
       "Epoch-79:   0%|          | 0/126 [00:00<?, ?it/s]"
      ]
     },
     "metadata": {},
     "output_type": "display_data"
    },
    {
     "name": "stdout",
     "output_type": "stream",
     "text": [
      "Epoch:79     Loss:0.6504113435272186      LR:0.0037735360253530743\n"
     ]
    },
    {
     "data": {
      "application/vnd.jupyter.widget-view+json": {
       "model_id": "db20673edab743c9842193adc5163da6",
       "version_major": 2,
       "version_minor": 0
      },
      "text/plain": [
       "Epoch-80:   0%|          | 0/126 [00:00<?, ?it/s]"
      ]
     },
     "metadata": {},
     "output_type": "display_data"
    },
    {
     "name": "stdout",
     "output_type": "stream",
     "text": [
      "Epoch:80     Loss:0.6639212821684186      LR:0.003770616027238218\n"
     ]
    },
    {
     "data": {
      "application/vnd.jupyter.widget-view+json": {
       "model_id": "501d5978eaf04717bfc598775411556e",
       "version_major": 2,
       "version_minor": 0
      },
      "text/plain": [
       "Epoch-81:   0%|          | 0/126 [00:00<?, ?it/s]"
      ]
     },
     "metadata": {},
     "output_type": "display_data"
    },
    {
     "name": "stdout",
     "output_type": "stream",
     "text": [
      "Epoch:81     Loss:0.6499372919400533      LR:0.0035848592240854136\n"
     ]
    },
    {
     "data": {
      "application/vnd.jupyter.widget-view+json": {
       "model_id": "1fb96257ca964a06a06714dab1d5377d",
       "version_major": 2,
       "version_minor": 0
      },
      "text/plain": [
       "Epoch-82:   0%|          | 0/126 [00:00<?, ?it/s]"
      ]
     },
     "metadata": {},
     "output_type": "display_data"
    },
    {
     "name": "stdout",
     "output_type": "stream",
     "text": [
      "Epoch:82     Loss:0.6270304795295473      LR:0.0035848592240854136\n"
     ]
    },
    {
     "data": {
      "application/vnd.jupyter.widget-view+json": {
       "model_id": "43af7137aa4248faa54d579e55103d4a",
       "version_major": 2,
       "version_minor": 0
      },
      "text/plain": [
       "Epoch-83:   0%|          | 0/126 [00:00<?, ?it/s]"
      ]
     },
     "metadata": {},
     "output_type": "display_data"
    },
    {
     "name": "stdout",
     "output_type": "stream",
     "text": [
      "Epoch:83     Loss:0.6297148520511294      LR:0.0035848592240854136\n"
     ]
    },
    {
     "data": {
      "application/vnd.jupyter.widget-view+json": {
       "model_id": "2bb40a81321f44cf8f1c5013ad9bfd0f",
       "version_major": 2,
       "version_minor": 0
      },
      "text/plain": [
       "Epoch-84:   0%|          | 0/126 [00:00<?, ?it/s]"
      ]
     },
     "metadata": {},
     "output_type": "display_data"
    },
    {
     "name": "stdout",
     "output_type": "stream",
     "text": [
      "Epoch:84     Loss:0.6390951505256077      LR:0.0035820852258763\n"
     ]
    },
    {
     "data": {
      "application/vnd.jupyter.widget-view+json": {
       "model_id": "bd3adf3ca7c94d49a3f148844cfcfb6c",
       "version_major": 2,
       "version_minor": 0
      },
      "text/plain": [
       "Epoch-85:   0%|          | 0/126 [00:00<?, ?it/s]"
      ]
     },
     "metadata": {},
     "output_type": "display_data"
    },
    {
     "name": "stdout",
     "output_type": "stream",
     "text": [
      "Epoch:85     Loss:0.6194112551590752      LR:0.0034056162628811576\n"
     ]
    },
    {
     "data": {
      "application/vnd.jupyter.widget-view+json": {
       "model_id": "b432fb533c5442ac92273c979de1d782",
       "version_major": 2,
       "version_minor": 0
      },
      "text/plain": [
       "Epoch-86:   0%|          | 0/126 [00:00<?, ?it/s]"
      ]
     },
     "metadata": {},
     "output_type": "display_data"
    },
    {
     "name": "stdout",
     "output_type": "stream",
     "text": [
      "Epoch:86     Loss:0.6138607994431541      LR:0.0034056162628811576\n"
     ]
    },
    {
     "data": {
      "application/vnd.jupyter.widget-view+json": {
       "model_id": "0700951c65884b699133496f9c9d22b8",
       "version_major": 2,
       "version_minor": 0
      },
      "text/plain": [
       "Epoch-87:   0%|          | 0/126 [00:00<?, ?it/s]"
      ]
     },
     "metadata": {},
     "output_type": "display_data"
    },
    {
     "name": "stdout",
     "output_type": "stream",
     "text": [
      "Epoch:87     Loss:0.6187442654655093      LR:0.0034056162628811576\n"
     ]
    },
    {
     "data": {
      "application/vnd.jupyter.widget-view+json": {
       "model_id": "4773a0b58b534bc887704cbd6b1d4d57",
       "version_major": 2,
       "version_minor": 0
      },
      "text/plain": [
       "Epoch-88:   0%|          | 0/126 [00:00<?, ?it/s]"
      ]
     },
     "metadata": {},
     "output_type": "display_data"
    },
    {
     "name": "stdout",
     "output_type": "stream",
     "text": [
      "Epoch:88     Loss:0.6031516433235199      LR:0.0034029809645824993\n"
     ]
    },
    {
     "data": {
      "application/vnd.jupyter.widget-view+json": {
       "model_id": "63bffc5287b8469885289a681e6109b2",
       "version_major": 2,
       "version_minor": 0
      },
      "text/plain": [
       "Epoch-89:   0%|          | 0/126 [00:00<?, ?it/s]"
      ]
     },
     "metadata": {},
     "output_type": "display_data"
    },
    {
     "name": "stdout",
     "output_type": "stream",
     "text": [
      "Epoch:89     Loss:0.6166123430880289      LR:0.003235335449737087\n"
     ]
    },
    {
     "data": {
      "application/vnd.jupyter.widget-view+json": {
       "model_id": "207c2cd1928d426ab51599bea1008e30",
       "version_major": 2,
       "version_minor": 0
      },
      "text/plain": [
       "Epoch-90:   0%|          | 0/126 [00:00<?, ?it/s]"
      ]
     },
     "metadata": {},
     "output_type": "display_data"
    },
    {
     "name": "stdout",
     "output_type": "stream",
     "text": [
      "Epoch:90     Loss:0.6032080092127361      LR:0.003235335449737087\n"
     ]
    },
    {
     "data": {
      "application/vnd.jupyter.widget-view+json": {
       "model_id": "21a5a372e21f4a40b7117f955e1c7a0c",
       "version_major": 2,
       "version_minor": 0
      },
      "text/plain": [
       "Epoch-91:   0%|          | 0/126 [00:00<?, ?it/s]"
      ]
     },
     "metadata": {},
     "output_type": "display_data"
    },
    {
     "name": "stdout",
     "output_type": "stream",
     "text": [
      "Epoch:91     Loss:0.5993692089640905      LR:0.003235335449737087\n"
     ]
    },
    {
     "data": {
      "application/vnd.jupyter.widget-view+json": {
       "model_id": "f90fda333710414db492a3721e093b4b",
       "version_major": 2,
       "version_minor": 0
      },
      "text/plain": [
       "Epoch-92:   0%|          | 0/126 [00:00<?, ?it/s]"
      ]
     },
     "metadata": {},
     "output_type": "display_data"
    },
    {
     "name": "stdout",
     "output_type": "stream",
     "text": [
      "Epoch:92     Loss:0.607174738532021      LR:0.0032328319163533624\n"
     ]
    },
    {
     "data": {
      "application/vnd.jupyter.widget-view+json": {
       "model_id": "a810db3c868b4479978cd053a5d3626a",
       "version_major": 2,
       "version_minor": 0
      },
      "text/plain": [
       "Epoch-93:   0%|          | 0/126 [00:00<?, ?it/s]"
      ]
     },
     "metadata": {},
     "output_type": "display_data"
    },
    {
     "name": "stdout",
     "output_type": "stream",
     "text": [
      "Epoch:93     Loss:0.5981452606973194      LR:0.0030735686772502303\n"
     ]
    },
    {
     "data": {
      "application/vnd.jupyter.widget-view+json": {
       "model_id": "b03858bc5dbf4c4ba5fc55c2fbe2af10",
       "version_major": 2,
       "version_minor": 0
      },
      "text/plain": [
       "Epoch-94:   0%|          | 0/126 [00:00<?, ?it/s]"
      ]
     },
     "metadata": {},
     "output_type": "display_data"
    },
    {
     "name": "stdout",
     "output_type": "stream",
     "text": [
      "Epoch:94     Loss:0.589634727627512      LR:0.0030735686772502303\n"
     ]
    },
    {
     "data": {
      "application/vnd.jupyter.widget-view+json": {
       "model_id": "79def8d1764a4d56a921e67f451a03c1",
       "version_major": 2,
       "version_minor": 0
      },
      "text/plain": [
       "Epoch-95:   0%|          | 0/126 [00:00<?, ?it/s]"
      ]
     },
     "metadata": {},
     "output_type": "display_data"
    },
    {
     "name": "stdout",
     "output_type": "stream",
     "text": [
      "Epoch:95     Loss:0.5958811870170018      LR:0.0030735686772502303\n"
     ]
    },
    {
     "data": {
      "application/vnd.jupyter.widget-view+json": {
       "model_id": "0e8592978a6d47e5b91c5300b6d10b2a",
       "version_major": 2,
       "version_minor": 0
      },
      "text/plain": [
       "Epoch-96:   0%|          | 0/126 [00:00<?, ?it/s]"
      ]
     },
     "metadata": {},
     "output_type": "display_data"
    },
    {
     "name": "stdout",
     "output_type": "stream",
     "text": [
      "Epoch:96     Loss:0.5849913765513708      LR:0.0030711903205356914\n"
     ]
    },
    {
     "data": {
      "application/vnd.jupyter.widget-view+json": {
       "model_id": "eec88999b51b4f53af69d4b16c07bc41",
       "version_major": 2,
       "version_minor": 0
      },
      "text/plain": [
       "Epoch-97:   0%|          | 0/126 [00:00<?, ?it/s]"
      ]
     },
     "metadata": {},
     "output_type": "display_data"
    },
    {
     "name": "stdout",
     "output_type": "stream",
     "text": [
      "Epoch:97     Loss:0.5864431545847938      LR:0.0029198902433877306\n"
     ]
    },
    {
     "data": {
      "application/vnd.jupyter.widget-view+json": {
       "model_id": "866b9ac96fd748c8985d55964e11a4e9",
       "version_major": 2,
       "version_minor": 0
      },
      "text/plain": [
       "Epoch-98:   0%|          | 0/126 [00:00<?, ?it/s]"
      ]
     },
     "metadata": {},
     "output_type": "display_data"
    },
    {
     "name": "stdout",
     "output_type": "stream",
     "text": [
      "Epoch:98     Loss:0.5735746487265542      LR:0.0029198902433877306\n"
     ]
    },
    {
     "data": {
      "application/vnd.jupyter.widget-view+json": {
       "model_id": "d70cceeb518b4007a314b7113248b0fb",
       "version_major": 2,
       "version_minor": 0
      },
      "text/plain": [
       "Epoch-99:   0%|          | 0/126 [00:00<?, ?it/s]"
      ]
     },
     "metadata": {},
     "output_type": "display_data"
    },
    {
     "name": "stdout",
     "output_type": "stream",
     "text": [
      "Epoch:99     Loss:0.5915320886979027      LR:0.0029198902433877306\n"
     ]
    },
    {
     "data": {
      "application/vnd.jupyter.widget-view+json": {
       "model_id": "1cf8a2fb073d47e19e9d9c422ef4033e",
       "version_major": 2,
       "version_minor": 0
      },
      "text/plain": [
       "Epoch-100:   0%|          | 0/126 [00:00<?, ?it/s]"
      ]
     },
     "metadata": {},
     "output_type": "display_data"
    },
    {
     "name": "stdout",
     "output_type": "stream",
     "text": [
      "Epoch:100     Loss:0.566426126493348      LR:0.0029176308045089183\n"
     ]
    }
   ],
   "source": [
    "epoch_losses = []\n",
    "epoch_lrs = []\n",
    "iteration_losses = []\n",
    "iteration_lrs = []\n",
    "\n",
    "for epoch in tqdm(range(1, epochs+1)):\n",
    "    epoch_loss = 0\n",
    "    epoch_lr = 0\n",
    "    for X, Y in tqdm(train_loader, desc=f\"Epoch-{epoch}\"):\n",
    "        X, Y = X.to(device), Y.to(device)\n",
    "\n",
    "        optimizer.zero_grad()\n",
    "        Y_pred_logits = model(X)\n",
    "        loss = criterion(Y_pred_logits, Y)\n",
    "        loss.backward()\n",
    "        optimizer.step()\n",
    "        lr_scheduler.step()\n",
    "\n",
    "        iteration_losses.append(loss.item())\n",
    "        iteration_lrs.append(lr_scheduler.get_lr()[0])\n",
    "        epoch_loss += loss.item()\n",
    "        epoch_lr += lr_scheduler.get_lr()[0]\n",
    "\n",
    "    epoch_loss /= len(train_loader)\n",
    "    epoch_lr /= len(train_loader)\n",
    "    epoch_losses.append(epoch_loss)\n",
    "    epoch_lrs.append(epoch_lr)\n",
    "\n",
    "    if epoch % print_every_n_epochs == 0:\n",
    "        message = f\"Epoch:{epoch}     Loss:{epoch_loss}      LR:{epoch_lr}\"\n",
    "        print(message)\n"
   ]
  },
  {
   "cell_type": "code",
   "execution_count": 42,
   "metadata": {},
   "outputs": [
    {
     "data": {
      "image/png": "[encoded data removed]",
      "text/plain": [
       "<Figure size 1500x800 with 2 Axes>"
      ]
     },
     "metadata": {},
     "output_type": "display_data"
    }
   ],
   "source": [
    "fig, (ax1, ax2) = plt.subplots(2, 1, sharex=True, figsize=(15,8))\n",
    "ax1.plot(epoch_losses, marker=\"o\", markersize=5)\n",
    "ax1.set_title(\"Loss\")\n",
    "ax2.plot(epoch_lrs, marker=\"o\", markersize=5)\n",
    "ax2.set_title(\"LR\")\n",
    "plt.xlabel(\"Epochs\")\n",
    "plt.show()"
   ]
  },
  {
   "cell_type": "code",
   "execution_count": 43,
   "metadata": {},
   "outputs": [
    {
     "data": {
      "image/png": "[encoded data removed]",
      "text/plain": [
       "<Figure size 1500x800 with 2 Axes>"
      ]
     },
     "metadata": {},
     "output_type": "display_data"
    }
   ],
   "source": [
    "fig, (ax1, ax2) = plt.subplots(2, 1, sharex=True, figsize=(15,8))\n",
    "ax1.plot(iteration_losses[::10])\n",
    "ax1.set_title(\"Loss\")\n",
    "ax2.plot(iteration_lrs[::10])\n",
    "ax2.set_title(\"LR\")\n",
    "plt.xlabel(\"Iterations\")\n",
    "plt.show()"
   ]
  },
  {
   "cell_type": "code",
   "execution_count": 44,
   "metadata": {},
   "outputs": [
    {
     "data": {
      "image/png": "[encoded data removed]",
      "text/plain": [
       "<Figure size 1500x400 with 1 Axes>"
      ]
     },
     "metadata": {},
     "output_type": "display_data"
    }
   ],
   "source": [
    "window = 100\n",
    "plt.figure(figsize=(15, 4))\n",
    "pd.Series(iteration_losses).rolling(window=window).mean().iloc[window-1:].plot()\n",
    "plt.show()"
   ]
  },
  {
   "cell_type": "code",
   "execution_count": 45,
   "metadata": {},
   "outputs": [],
   "source": [
    "path = os.path.join(\"storage\", \"models\", \"language-words\", \"classifier.pth\")\n",
    "torch.save(model.state_dict(), path)"
   ]
  },
  {
   "cell_type": "markdown",
   "metadata": {},
   "source": [
    "# 10. Test Model"
   ]
  },
  {
   "cell_type": "code",
   "execution_count": 46,
   "metadata": {},
   "outputs": [
    {
     "data": {
      "text/plain": [
       "<All keys matched successfully>"
      ]
     },
     "execution_count": 46,
     "metadata": {},
     "output_type": "execute_result"
    }
   ],
   "source": [
    "path = os.path.join(\"storage\", \"models\", \"language-words\", \"classifier.pth\")\n",
    "model = Model(input_size=num_chars, output_size=num_langs, hidden_size=hidden_size, num_layers=num_layers)\n",
    "model = nn.DataParallel(model)\n",
    "model.load_state_dict(torch.load(path))"
   ]
  },
  {
   "cell_type": "code",
   "execution_count": 47,
   "metadata": {},
   "outputs": [
    {
     "data": {
      "application/vnd.jupyter.widget-view+json": {
       "model_id": "e2887e1bcfe34d3ab644c31a38066730",
       "version_major": 2,
       "version_minor": 0
      },
      "text/plain": [
       "  0%|          | 0/126 [00:00<?, ?it/s]"
      ]
     },
     "metadata": {},
     "output_type": "display_data"
    }
   ],
   "source": [
    "with torch.no_grad():\n",
    "    Y_train, Y_pred_train = [], []\n",
    "    for X_mb, Y_mb in tqdm(train_loader):\n",
    "        out = model(X_mb)\n",
    "        _, Y_pred_mb = torch.max(out, 1)\n",
    "        Y_train.extend(Y_mb.numpy().tolist())\n",
    "        Y_pred_train.extend(Y_pred_mb.cpu().numpy().tolist())"
   ]
  },
  {
   "cell_type": "code",
   "execution_count": 48,
   "metadata": {},
   "outputs": [
    {
     "data": {
      "application/vnd.jupyter.widget-view+json": {
       "model_id": "333b3c6ec1eb4cd6a7acff05cbd83cd8",
       "version_major": 2,
       "version_minor": 0
      },
      "text/plain": [
       "  0%|          | 0/1004 [00:00<?, ?it/s]"
      ]
     },
     "metadata": {},
     "output_type": "display_data"
    }
   ],
   "source": [
    "with torch.no_grad():\n",
    "    Y_test, Y_pred_test = [], []\n",
    "    for X_mb, Y_mb in tqdm(test_loader):\n",
    "        out = model(X_mb)\n",
    "        _, Y_pred_mb = torch.max(out, 1)\n",
    "        Y_test.extend(Y_mb.numpy().tolist())\n",
    "        Y_pred_test.extend(Y_pred_mb.cpu().numpy().tolist())"
   ]
  },
  {
   "cell_type": "code",
   "execution_count": 49,
   "metadata": {},
   "outputs": [
    {
     "name": "stdout",
     "output_type": "stream",
     "text": [
      "Train Accuracy: 0.8318077090727941\n",
      "Test Accuracy: 0.7297633872976339\n"
     ]
    }
   ],
   "source": [
    "train_accuracy = accuracy_score(Y_train, Y_pred_train)\n",
    "test_accuracy = accuracy_score(Y_test, Y_pred_test)\n",
    "print(f\"Train Accuracy: {train_accuracy}\")\n",
    "print(f\"Test Accuracy: {test_accuracy}\")"
   ]
  },
  {
   "cell_type": "code",
   "execution_count": 50,
   "metadata": {},
   "outputs": [
    {
     "name": "stdout",
     "output_type": "stream",
     "text": [
      "(3,)\n",
      "(3, 1)\n"
     ]
    }
   ],
   "source": [
    "mat = np.array([1, 2, 3])\n",
    "print(mat.shape)\n",
    "print(mat[:, np.newaxis].shape)"
   ]
  },
  {
   "cell_type": "code",
   "execution_count": 51,
   "metadata": {},
   "outputs": [
    {
     "data": {
      "image/png": "[encoded data removed]",
      "text/plain": [
       "<Figure size 1500x500 with 2 Axes>"
      ]
     },
     "metadata": {},
     "output_type": "display_data"
    }
   ],
   "source": [
    "labels = sorted(list(lang_to_id.keys()))\n",
    "c_mat_train = confusion_matrix(Y_train, Y_pred_train)\n",
    "c_mat_train = c_mat_train / c_mat_train.sum(axis=1)[:, np.newaxis]\n",
    "plt.figure(figsize=(15,5))\n",
    "sns.heatmap(c_mat_train, annot=True, fmt=\"0.2f\", xticklabels=labels, yticklabels=labels)\n",
    "plt.title(\"Train Data\")\n",
    "plt.xlabel(\"Predicted\")\n",
    "plt.ylabel(\"Actual\")\n",
    "plt.show()"
   ]
  },
  {
   "cell_type": "code",
   "execution_count": 52,
   "metadata": {},
   "outputs": [
    {
     "data": {
      "image/png": "[encoded data removed]",
      "text/plain": [
       "<Figure size 1500x500 with 2 Axes>"
      ]
     },
     "metadata": {},
     "output_type": "display_data"
    }
   ],
   "source": [
    "c_mat_test = confusion_matrix(Y_test, Y_pred_test)\n",
    "c_mat_test = c_mat_test / c_mat_test.sum(axis=1)[:, np.newaxis]\n",
    "plt.figure(figsize=(15,5))\n",
    "sns.heatmap(c_mat_test, annot=True, fmt=\"0.2f\", xticklabels=labels, yticklabels=labels)\n",
    "plt.title(\"Test Data\")\n",
    "plt.xlabel(\"Predicted\")\n",
    "plt.ylabel(\"Actual\")\n",
    "plt.show()"
   ]
  },
  {
   "cell_type": "code",
   "execution_count": 53,
   "metadata": {},
   "outputs": [],
   "source": [
    "def compute_accuracies(c_mat):\n",
    "    accuracies = c_mat / c_mat.sum(axis=1)\n",
    "    accuracies = accuracies.diagonal()\n",
    "    accuracies = {k:v for k,v in zip(labels, accuracies)}\n",
    "    return accuracies"
   ]
  },
  {
   "cell_type": "code",
   "execution_count": 54,
   "metadata": {},
   "outputs": [
    {
     "data": {
      "text/plain": [
       "{'Arabic': 0.9843750000000001,\n",
       " 'Chinese': 0.8224299065420562,\n",
       " 'Czech': 0.6385542168674699,\n",
       " 'Dutch': 0.7857142857142857,\n",
       " 'English': 0.7119972733469667,\n",
       " 'French': 0.8243243243243243,\n",
       " 'German': 0.7841105354058723,\n",
       " 'Greek': 0.9877300613496932,\n",
       " 'Irish': 0.7903225806451613,\n",
       " 'Italian': 0.8218694885361552,\n",
       " 'Japanese': 0.9079445145018915,\n",
       " 'Korean': 0.68,\n",
       " 'Polish': 0.8918918918918919,\n",
       " 'Portuguese': 0.9491525423728814,\n",
       " 'Russian': 0.8603507839489767,\n",
       " 'Scottish': 0.6875000000000001,\n",
       " 'Spanish': 0.7226890756302521,\n",
       " 'Vietnamese': 0.4576271186440678}"
      ]
     },
     "execution_count": 54,
     "metadata": {},
     "output_type": "execute_result"
    }
   ],
   "source": [
    "compute_accuracies(c_mat_train)"
   ]
  },
  {
   "cell_type": "code",
   "execution_count": 55,
   "metadata": {},
   "outputs": [
    {
     "data": {
      "text/plain": [
       "{'Arabic': 0.9825,\n",
       " 'Chinese': 0.7777777777777778,\n",
       " 'Czech': 0.28846153846153844,\n",
       " 'Dutch': 0.3559322033898305,\n",
       " 'English': 0.6362397820163488,\n",
       " 'French': 0.2727272727272727,\n",
       " 'German': 0.5310344827586206,\n",
       " 'Greek': 0.75,\n",
       " 'Irish': 0.45652173913043476,\n",
       " 'Italian': 0.6056338028169015,\n",
       " 'Japanese': 0.7727272727272727,\n",
       " 'Korean': 0.21052631578947367,\n",
       " 'Polish': 0.5000000000000001,\n",
       " 'Portuguese': 0.2,\n",
       " 'Russian': 0.8230605738575983,\n",
       " 'Scottish': 0.0,\n",
       " 'Spanish': 0.36666666666666664,\n",
       " 'Vietnamese': 0.21428571428571427}"
      ]
     },
     "execution_count": 55,
     "metadata": {},
     "output_type": "execute_result"
    }
   ],
   "source": [
    "compute_accuracies(c_mat_test)"
   ]
  }
 ],
 "metadata": {
  "kernelspec": {
   "display_name": "Dekalog",
   "language": "python",
   "name": "python3"
  },
  "language_info": {
   "codemirror_mode": {
    "name": "ipython",
    "version": 3
   },
   "file_extension": ".py",
   "mimetype": "text/x-python",
   "name": "python",
   "nbconvert_exporter": "python",
   "pygments_lexer": "ipython3",
   "version": "3.11.7"
  }
 },
 "nbformat": 4,
 "nbformat_minor": 2
}
